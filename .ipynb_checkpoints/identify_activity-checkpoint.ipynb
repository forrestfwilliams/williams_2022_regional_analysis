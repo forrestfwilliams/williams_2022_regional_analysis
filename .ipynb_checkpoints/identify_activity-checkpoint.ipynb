{
 "cells": [
  {
   "cell_type": "markdown",
   "id": "6c7cc17b-8318-4c99-8f0a-5238fb8e12b9",
   "metadata": {},
   "source": [
    "# Trialing Landslide Activity Filters"
   ]
  },
  {
   "cell_type": "markdown",
   "id": "2edd6872-6670-4e1b-b5ec-9f303cd67a4c",
   "metadata": {},
   "source": [
    "## Setup"
   ]
  },
  {
   "cell_type": "code",
   "execution_count": 1,
   "id": "38765adc-c798-4647-ae11-12d82a84960d",
   "metadata": {},
   "outputs": [],
   "source": [
    "# run in forrestwilliams/gis:1.03\n",
    "%matplotlib inline\n",
    "import rasterio as rio\n",
    "import geopandas as gpd\n",
    "import richdem as rd\n",
    "from pathlib import Path\n",
    "from rasterstats import zonal_stats\n",
    "from skimage import morphology\n",
    "from sklearn.metrics import cohen_kappa_score, accuracy_score, confusion_matrix\n",
    "\n",
    "import numpy as np\n",
    "import pandas as pd\n",
    "import matplotlib.pyplot as plt\n",
    "from itertools import product\n",
    "\n",
    "import warnings\n",
    "warnings.filterwarnings('ignore')"
   ]
  },
  {
   "cell_type": "code",
   "execution_count": 2,
   "id": "b05a27db-1dcd-45d1-9690-6942e132fca6",
   "metadata": {},
   "outputs": [
    {
     "name": "stdout",
     "output_type": "stream",
     "text": [
      "/home/micromamba/data\n"
     ]
    }
   ],
   "source": [
    "cd /home/micromamba/data"
   ]
  },
  {
   "cell_type": "code",
   "execution_count": 3,
   "id": "2e3a4a44-4674-4246-bf42-b473a25ca464",
   "metadata": {},
   "outputs": [],
   "source": [
    "def read_raster(path,bands=1,crs=False):\n",
    "    with rio.open(path) as dst:\n",
    "        array = dst.read(bands)\n",
    "        profile = dst.profile\n",
    "        crs_val = dst.crs\n",
    "        # array = np.moveaxis(array,0,-1)\n",
    "    \n",
    "    result = [array, profile]\n",
    "\n",
    "    if crs:\n",
    "        result.append(crs_val)\n",
    "\n",
    "    return result\n",
    "\n",
    "\n",
    "def write_raster(array,profile,out_path,dtype=rio.uint8):\n",
    "    # From rasterio docs:\n",
    "    # Register GDAL format drivers and configuration options with a\n",
    "    # context manager.\n",
    "    with rio.Env():\n",
    "        # And then change the band count to 1, set the\n",
    "        # dtype to uint8, and specify LZW compression.\n",
    "        profile.update(\n",
    "            dtype=dtype,\n",
    "            count=1,\n",
    "            compress='lzw')\n",
    "\n",
    "        with rio.open(out_path, 'w', **profile) as dst:\n",
    "            dst.write(array.astype(dtype), 1)\n",
    "\n",
    "    return out_path\n",
    "\n",
    "\n",
    "def vel_coh_filter(vel_array, coh_array, coh_thresh, n_std=2, min_size=None):\n",
    "    data = vel_array.copy()\n",
    "\n",
    "    # mask pixels with velocities less than 2 x velocity std in space\n",
    "    mean = np.nanmean(vel_array)\n",
    "    std = np.nanstd(vel_array)\n",
    "    vel_mask = np.abs(vel_array - mean) > (std * n_std)\n",
    "    \n",
    "    # mask pixels with temporal coherence below threshold\n",
    "    coh_mask = coh_array > coh_thresh\n",
    "    mask = vel_mask & coh_mask\n",
    "\n",
    "    # optionally remove small objects (min size in pixels)\n",
    "    if min_size:\n",
    "        mask = morphology.remove_small_objects(mask,min_size=min_size)\n",
    "    \n",
    "    data[~mask] = np.nan\n",
    "    \n",
    "    return (data, mask)\n",
    "\n",
    "def vel_coh_filter_v2(vel_array, coh_array, coh_thresh, n_std=2, min_size=None):\n",
    "    data = vel_array.copy()\n",
    "    \n",
    "    # mask pixels with temporal coherence below threshold\n",
    "    coh_mask = coh_array > coh_thresh\n",
    "    data[~coh_mask] = np.nan\n",
    "\n",
    "    # mask pixels with velocities less than 2 x velocity std in space\n",
    "    mean = np.nanmean(data)\n",
    "    std = np.nanstd(data)\n",
    "    vel_mask = np.abs(data - mean) > (std * n_std)\n",
    "    \n",
    "    # combine masks\n",
    "    mask = vel_mask & coh_mask\n",
    "\n",
    "    # optionally remove small objects (min size in pixels)\n",
    "    if min_size:\n",
    "        mask = morphology.remove_small_objects(mask,min_size=min_size)\n",
    "    \n",
    "    data[~mask] = np.nan\n",
    "    \n",
    "    return (data, mask)\n",
    "\n",
    "\n",
    "def bekaert_filter(vel_array, std_array, n_std=2, min_size=None):\n",
    "    data = vel_array.copy()\n",
    "    \n",
    "    # mask pixels less than 2 x temporal standard deviation\n",
    "    mask = np.abs(data - np.nanmean(vel_array)) > (n_std * std_array)\n",
    "\n",
    "    # optionally remove small objects (min size in pixels)\n",
    "    if min_size:\n",
    "        mask = morphology.remove_small_objects(mask,min_size=min_size)\n",
    "    \n",
    "    data[~mask] = np.nan\n",
    "    \n",
    "    return (data, mask)\n",
    "\n",
    "\n",
    "def gdf_zonal_stats(gdf,data,affine,statistic):\n",
    "    # Get polygons\n",
    "    zones = list(gdf.geometry)\n",
    "\n",
    "    # Perform zonal stats and convert to pandas series\n",
    "    zs = zonal_stats(zones, data.astype(float), affine=affine,stats=[statistic],nodata=0.0)\n",
    "    result = pd.Series([x[statistic] for x in zs])\n",
    "    \n",
    "    return result\n",
    "\n",
    "\n",
    "def add_trial_column(gdf,data,affine,col_name):\n",
    "    # Perform zonal stats\n",
    "    counts = gdf_zonal_stats(gdf,data,affine,'count')\n",
    "\n",
    "    # Change count to binary measure of activity and add to geodataframe\n",
    "    gdf[col_name] = (counts > 0).astype(int)\n",
    "\n",
    "    return gdf"
   ]
  },
  {
   "cell_type": "markdown",
   "id": "2c0669eb-7730-4572-b176-510ca95c6f58",
   "metadata": {},
   "source": [
    "## Prep landslide activity test dataset"
   ]
  },
  {
   "cell_type": "code",
   "execution_count": 4,
   "id": "4c01126c-2b2a-44cb-9c9a-c742c7717742",
   "metadata": {},
   "outputs": [],
   "source": [
    "active_type = 'active'\n",
    "\n",
    "ls_path = Path('activity_validation_set.shp')\n",
    "test_set = gpd.read_file(ls_path).to_crs(32760).reset_index(drop=True)\n",
    "\n",
    "test_set = test_set[['Name','area_ha',active_type,'geometry']]\n",
    "test_set = test_set.rename(columns={'Name':'name',active_type:'active'})\n",
    "test_set['area_ha'] = test_set.geometry.area / 1e4"
   ]
  },
  {
   "cell_type": "markdown",
   "id": "19b169ae-c833-425a-bbba-e4be513537e8",
   "metadata": {
    "tags": []
   },
   "source": [
    "### Calculate Average Aspect"
   ]
  },
  {
   "cell_type": "code",
   "execution_count": null,
   "id": "a2e2cf77-ff94-482a-8804-9904da53a99c",
   "metadata": {},
   "outputs": [],
   "source": [
    "# dem, profile = read_raster()\n",
    "# aspect = rd.aspect(dem)\n",
    "\n",
    "imagery_path = Path('imagery')\n",
    "in_dem = imagery_path / 'northIslandOtago.tif'\n",
    "dem_path = imagery_path / 'dem.tif'\n",
    "minx, miny, maxx, maxy = test_set.copy().buffer(10000).total_bounds\n",
    "epsg = f'EPSG:{test_set.crs.to_epsg()}'"
   ]
  },
  {
   "cell_type": "code",
   "execution_count": null,
   "id": "1ffdd75a-05d0-490f-9a8e-77da1918e2f3",
   "metadata": {},
   "outputs": [],
   "source": [
    "# !gdal_translate -projwin {minx} {maxy} {maxx} {miny} -projwin_srs {epsg} {str(in_dem)} subset.tif\n",
    "# !gdalwarp -t_srs {epsg} subset.tif {str(dem_path)}\n",
    "# !rm subset.tif"
   ]
  },
  {
   "cell_type": "code",
   "execution_count": null,
   "id": "28b54a4d-1dfc-4a44-ae09-9b30e8d7b283",
   "metadata": {},
   "outputs": [],
   "source": [
    "dem, dem_profile = read_raster(dem_path)\n",
    "dem_affine = dem_profile['transform']"
   ]
  },
  {
   "cell_type": "code",
   "execution_count": null,
   "id": "1d224327-aced-4d43-b90c-1fa88cc87ff8",
   "metadata": {},
   "outputs": [],
   "source": [
    "%%capture\n",
    "rdem = rd.rdarray(dem, no_data=-32768)\n",
    "aspect = rd.TerrainAttribute(rdem, attrib='aspect')\n",
    "\n",
    "aspect = np.array(aspect)\n",
    "aspect[aspect < 0] = np.nan\n",
    "aspect = np.deg2rad(aspect)\n",
    "# write_raster(aspect,dem_profile,'aspect.tif',dtype=rio.float32)"
   ]
  },
  {
   "cell_type": "code",
   "execution_count": null,
   "id": "efa4e259-5046-406d-a314-670e8bdd4441",
   "metadata": {},
   "outputs": [],
   "source": [
    "# Calculate circular mean from:\n",
    "# https://en.wikipedia.org/wiki/Circular_mean\n",
    "\n",
    "sin_aspect = gdf_zonal_stats(test_set,np.sin(aspect),dem_affine,'sum')\n",
    "cos_aspect = gdf_zonal_stats(test_set,np.cos(aspect),dem_affine,'sum')\n",
    "\n",
    "avg_aspect = np.rad2deg(np.arctan2(sin_aspect,cos_aspect))\n",
    "test_set['aspect'] = avg_aspect"
   ]
  },
  {
   "cell_type": "markdown",
   "id": "68a55f4a-a605-4a02-8ee0-666706ede61e",
   "metadata": {},
   "source": [
    "## Trial activity filters"
   ]
  },
  {
   "cell_type": "markdown",
   "id": "fac48612-6197-44fa-8fee-c61510f91ecf",
   "metadata": {},
   "source": [
    "### Load Data"
   ]
  },
  {
   "cell_type": "code",
   "execution_count": 5,
   "id": "17b0d18d-1262-4a16-b6aa-d19125b70832",
   "metadata": {},
   "outputs": [],
   "source": [
    "dataset_names = ['velocity_desc','velocity_asc',\n",
    "                 'std_asc','std_desc',\n",
    "                 'temporalCoherence_desc','temporalCoherence_asc']\n",
    "years = [2018,2019,2020,2021]"
   ]
  },
  {
   "cell_type": "code",
   "execution_count": 6,
   "id": "a1ba4186-4a55-4776-8808-27b6b4906a35",
   "metadata": {},
   "outputs": [
    {
     "name": "stdout",
     "output_type": "stream",
     "text": [
      "Reading velocity_desc2018.tif ...\n",
      "Reading velocity_desc2019.tif ...\n",
      "Reading velocity_desc2020.tif ...\n",
      "Reading velocity_desc2021.tif ...\n",
      "Reading velocity_asc2018.tif ...\n",
      "Reading velocity_asc2019.tif ...\n",
      "Reading velocity_asc2020.tif ...\n",
      "Reading velocity_asc2021.tif ...\n",
      "Reading std_asc2018.tif ...\n",
      "Reading std_asc2019.tif ...\n",
      "Reading std_asc2020.tif ...\n",
      "Reading std_asc2021.tif ...\n",
      "Reading std_desc2018.tif ...\n",
      "Reading std_desc2019.tif ...\n",
      "Reading std_desc2020.tif ...\n",
      "Reading std_desc2021.tif ...\n",
      "Reading temporalCoherence_desc2018.tif ...\n",
      "Reading temporalCoherence_desc2019.tif ...\n",
      "Reading temporalCoherence_desc2020.tif ...\n",
      "Reading temporalCoherence_desc2021.tif ...\n",
      "Reading temporalCoherence_asc2018.tif ...\n",
      "Reading temporalCoherence_asc2019.tif ...\n",
      "Reading temporalCoherence_asc2020.tif ...\n",
      "Reading temporalCoherence_asc2021.tif ...\n",
      "Done!\n"
     ]
    }
   ],
   "source": [
    "datasets = {}\n",
    "for d in dataset_names:\n",
    "    years_dic = {}\n",
    "    \n",
    "    for y in years:\n",
    "        name = f'{d}{y}.tif'\n",
    "        print(f'Reading {name} ...')\n",
    "        years_dic[y] = read_raster(name)[0]\n",
    "\n",
    "    datasets[d] = years_dic\n",
    "\n",
    "print('Done!')"
   ]
  },
  {
   "cell_type": "code",
   "execution_count": 7,
   "id": "8757c2ce-bc98-4222-9d30-7c3585dbc8c9",
   "metadata": {},
   "outputs": [],
   "source": [
    "profile = read_raster('velocity_desc2019.tif')[1]\n",
    "affine = profile['transform']"
   ]
  },
  {
   "cell_type": "markdown",
   "id": "2f4a5b2f-71c4-4088-8f6a-d840a79bbae2",
   "metadata": {
    "tags": []
   },
   "source": [
    "## Data exploration"
   ]
  },
  {
   "cell_type": "code",
   "execution_count": null,
   "id": "0aae94ef-1e39-40c8-bb19-72e130327c63",
   "metadata": {},
   "outputs": [],
   "source": [
    "test_set.shape"
   ]
  },
  {
   "cell_type": "code",
   "execution_count": null,
   "id": "17269104-b1ad-4d12-a6ce-c36f7488fcb1",
   "metadata": {},
   "outputs": [],
   "source": [
    "test_set[['active','area_ha']].groupby('active').describe()"
   ]
  },
  {
   "cell_type": "code",
   "execution_count": null,
   "id": "5b7170d8-51aa-4035-a061-b3448e91fe6d",
   "metadata": {},
   "outputs": [],
   "source": [
    "coh = datasets['temporalCoherence_desc']['2019']\n",
    "vel = datasets['velocity_desc']['2019']"
   ]
  },
  {
   "cell_type": "code",
   "execution_count": null,
   "id": "c789a1ff-3927-4894-a3ac-e077959bdc25",
   "metadata": {},
   "outputs": [],
   "source": [
    "vmin, vmax = (0.5,1)\n",
    "f, (ax1,ax2) = plt.subplots(1,2,figsize=(20,5))\n",
    "ax1.imshow(coh,vmin=vmin,vmax=vmax)\n",
    "h=ax2.hist(coh.flatten(),range=(vmin,vmax),bins=100)"
   ]
  },
  {
   "cell_type": "code",
   "execution_count": null,
   "id": "119c9681-615e-4121-8d54-c993d5ea56c6",
   "metadata": {},
   "outputs": [],
   "source": [
    "vmin, vmax = (-0.05,0.05)\n",
    "f, (ax1,ax2) = plt.subplots(1,2,figsize=(20,5))\n",
    "ax1.imshow(vel,vmin=vmin,vmax=vmax)\n",
    "h=ax2.hist(vel.flatten(),range=(vmin,vmax),bins=50)"
   ]
  },
  {
   "cell_type": "markdown",
   "id": "5b999575-407a-4398-906c-b35631a788f8",
   "metadata": {},
   "source": [
    "## Filter Trials"
   ]
  },
  {
   "cell_type": "markdown",
   "id": "8189d6a2-d307-4ee2-985b-2df10f96fc99",
   "metadata": {},
   "source": [
    "### Bekaert Desc"
   ]
  },
  {
   "cell_type": "code",
   "execution_count": null,
   "id": "16e35d4a-b5ec-447e-a214-07e50b3799af",
   "metadata": {},
   "outputs": [],
   "source": [
    "# best value is n_std = 11\n",
    "name = f'std_desc_2019'\n",
    "data, mask = bekaert_filter(datasets['velocity_desc']['2019'], datasets['std_desc']['2019'], min_size=min_size)\n",
    "test_set = add_trial_column(test_set,mask,affine,f'bekaert_desc_2019')\n",
    "write_raster(data,profile,name+'.tif',dtype=rio.float32)"
   ]
  },
  {
   "cell_type": "markdown",
   "id": "ad12013d-5588-4c52-80de-40bb3fde663d",
   "metadata": {},
   "source": [
    "### Bekaert Asc"
   ]
  },
  {
   "cell_type": "code",
   "execution_count": null,
   "id": "0b54ce35-d54f-420a-ad27-500a34915eda",
   "metadata": {},
   "outputs": [],
   "source": [
    "# best value is n_std = 11\n",
    "name = f'std_asc_2019'\n",
    "data, mask = bekaert_filter(datasets['velocity_asc']['2019'], datasets['std_asc']['2019'], min_size=min_size)\n",
    "test_set = add_trial_column(test_set,mask,affine,f'bekaert_asc_2019')\n",
    "write_raster(data,profile,name+'.tif',dtype=rio.float32)"
   ]
  },
  {
   "cell_type": "code",
   "execution_count": 28,
   "id": "d2b630ac-8535-4b57-8b62-6105da6f9745",
   "metadata": {},
   "outputs": [
    {
     "name": "stdout",
     "output_type": "stream",
     "text": [
      "0.9047293663024902\n"
     ]
    }
   ],
   "source": [
    "tcoh_asc = datasets['temporalCoherence_asc']\n",
    "tcoh_desc = datasets['temporalCoherence_desc']\n",
    "\n",
    "asc_means = [np.nanmean(tcoh_asc[x]) for x in tcoh_asc]\n",
    "desc_means = [np.nanmean(tcoh_desc[x]) for x in tcoh_desc]\n",
    "\n",
    "tcoh_mean = (np.mean(asc_means) + np.mean(desc_means)) / 2\n",
    "\n",
    "del tcoh_asc, tcoh_desc\n",
    "\n",
    "print(tcoh_mean)"
   ]
  },
  {
   "cell_type": "markdown",
   "id": "bdbcdf9c-1bca-4157-9ce1-898aed6112bf",
   "metadata": {},
   "source": [
    "### Set Params"
   ]
  },
  {
   "cell_type": "code",
   "execution_count": 8,
   "id": "787e4b09-9a5f-44e4-a64c-81ed8cdde466",
   "metadata": {},
   "outputs": [
    {
     "data": {
      "text/plain": [
       "3.04"
      ]
     },
     "execution_count": 8,
     "metadata": {},
     "output_type": "execute_result"
    }
   ],
   "source": [
    "(19*40*40)/10000"
   ]
  },
  {
   "cell_type": "code",
   "execution_count": 9,
   "id": "f9af6d7d-48f2-490d-a023-9ae67e527889",
   "metadata": {
    "tags": []
   },
   "outputs": [],
   "source": [
    "min_size = 19\n",
    "coh_thresh = 0.905\n",
    "n_std = 2"
   ]
  },
  {
   "cell_type": "markdown",
   "id": "b00fc0e4-cc2b-472e-a649-b544fa74a973",
   "metadata": {},
   "source": [
    "### Vel_coh"
   ]
  },
  {
   "cell_type": "code",
   "execution_count": 10,
   "id": "31fcc08a-568e-40e4-8800-4b076a4bde0c",
   "metadata": {},
   "outputs": [
    {
     "name": "stdout",
     "output_type": "stream",
     "text": [
      "2018\n",
      "2019\n",
      "2020\n",
      "2021\n"
     ]
    },
    {
     "data": {
      "text/plain": [
       "'activity_count_2018_2021.tif'"
      ]
     },
     "execution_count": 10,
     "metadata": {},
     "output_type": "execute_result"
    }
   ],
   "source": [
    "result_bitwise = np.zeros(datasets['velocity_desc'][2019].shape)\n",
    "result_count = np.zeros(datasets['velocity_desc'][2019].shape)\n",
    "for i,y in enumerate(years):\n",
    "    print(y)\n",
    "    #descending\n",
    "    desc, mask_desc = vel_coh_filter_v2(datasets['velocity_desc'][y],\n",
    "                                     datasets['temporalCoherence_desc'][y],\n",
    "                                     coh_thresh=coh_thresh, n_std=n_std, min_size=min_size)\n",
    "\n",
    "    test_set = add_trial_column(test_set,mask_desc,affine,f'velcoh_desc_{y}')\n",
    "\n",
    "    #ascending\n",
    "    asc, mask_asc = vel_coh_filter_v2(datasets['velocity_asc'][y],\n",
    "                                     datasets['temporalCoherence_asc'][y],\n",
    "                                     coh_thresh=coh_thresh, n_std=n_std, min_size=min_size)\n",
    "\n",
    "    test_set = add_trial_column(test_set,mask_desc,affine,f'velcoh_asc_{y}')\n",
    "\n",
    "    #both\n",
    "    mask = mask_asc | mask_desc\n",
    "    test_set = add_trial_column(test_set,mask,affine,f'velcoh_both_{y}')\n",
    "    \n",
    "    # combine all results into a bitwise mask and activity count\n",
    "    result_bitwise += mask.astype(int) * (2**i)\n",
    "    result_count += mask.astype(int)\n",
    "    \n",
    "write_raster(result_bitwise,profile,'activity_bitwise_2018_2021.tif',dtype=rio.int8)\n",
    "write_raster(result_count,profile,'activity_count_2018_2021.tif',dtype=rio.int8)"
   ]
  },
  {
   "cell_type": "markdown",
   "id": "b1df51d6-e9ab-4f78-8473-a83e0ec73db0",
   "metadata": {
    "tags": []
   },
   "source": [
    "### Save Results"
   ]
  },
  {
   "cell_type": "code",
   "execution_count": 11,
   "id": "0802b02e-94d6-4acc-9434-7a14fd44e1cc",
   "metadata": {},
   "outputs": [],
   "source": [
    "name = 'activity_measures_c905_ms19_std2_cohfirst.geojson'\n",
    "test_set.to_file(name)"
   ]
  },
  {
   "cell_type": "markdown",
   "id": "d3153bc6-fd5c-4435-b77a-06f6f60a30e9",
   "metadata": {},
   "source": [
    "## Stats"
   ]
  },
  {
   "cell_type": "code",
   "execution_count": 12,
   "id": "fb5d8eb6-69ff-45a8-b2fe-6e38cb08e10a",
   "metadata": {},
   "outputs": [],
   "source": [
    "gdf = test_set.copy()"
   ]
  },
  {
   "cell_type": "code",
   "execution_count": 13,
   "id": "73a3edd1-ff35-44de-9a6b-443b652de25c",
   "metadata": {},
   "outputs": [],
   "source": [
    "gdf['velcoh_count'] = 0\n",
    "for y in years:\n",
    "    gdf['velcoh_count'] += gdf[f'velcoh_both_{y}']\n",
    "\n",
    "for y in years:\n",
    "    gdf[f'velcoh_count2_{y}'] = (gdf['velcoh_count'] >= 2).astype(int)\n",
    "    gdf[f'velcoh_count3_{y}'] = (gdf['velcoh_count'] >= 3).astype(int)\n",
    "\n",
    "gdf = gdf.drop(columns=['velcoh_count'])"
   ]
  },
  {
   "cell_type": "code",
   "execution_count": 14,
   "id": "16cf6892-5fa2-4d73-aac9-51d76e63f317",
   "metadata": {},
   "outputs": [],
   "source": [
    "trials = [x for x in gdf.columns if ('bekaert' in x) | ('velcoh' in x)]\n",
    "\n",
    "tmp = gdf[['name','active'] + trials]\n",
    "cols = tmp.columns\n",
    "\n",
    "# Desired architecture:\n",
    "# landslide year active type value\n",
    "\n",
    "df = tmp.melt(id_vars=cols[0:2],value_vars=cols[2:],value_name='prediction')\n",
    "df[['method','direction','year']] = df.variable.str.split('_',expand=True)\n",
    "df['type'] = df.method + '_' + df.direction\n",
    "df['year'] = df.year.astype(int)\n",
    "df = df.drop(['method','direction','variable'],axis=1)"
   ]
  },
  {
   "cell_type": "code",
   "execution_count": 15,
   "id": "06b66204-a1d9-44f9-9b54-94d51a0df03d",
   "metadata": {},
   "outputs": [],
   "source": [
    "# from sklearn.metrics import cohen_kappa_score, accuracy_score, confusion_matrix\n",
    "cols = ['type','year','true_neg','true_pos','kappa','acc']\n",
    "metrics_yearly = pd.DataFrame(columns=cols)\n",
    "\n",
    "for t,y in product(df.type.unique(),df.year.unique()):\n",
    "    sel = df.loc[(df.type == t) & (df.year == y)].copy()\n",
    "\n",
    "    conf = confusion_matrix(sel.active,sel.prediction)\n",
    "    kappa = cohen_kappa_score(sel.active,sel.prediction)\n",
    "    acc = accuracy_score(sel.active,sel.prediction)\n",
    "    \n",
    "    metrics_yearly = metrics_yearly.append(dict(zip(cols,[t,y,conf[0,0],conf[1,1],kappa,acc])),ignore_index=True)"
   ]
  },
  {
   "cell_type": "code",
   "execution_count": 16,
   "id": "2f517788-bff0-4255-8846-e47d1a99f4e8",
   "metadata": {},
   "outputs": [
    {
     "data": {
      "text/html": [
       "<div>\n",
       "<style scoped>\n",
       "    .dataframe tbody tr th:only-of-type {\n",
       "        vertical-align: middle;\n",
       "    }\n",
       "\n",
       "    .dataframe tbody tr th {\n",
       "        vertical-align: top;\n",
       "    }\n",
       "\n",
       "    .dataframe thead th {\n",
       "        text-align: right;\n",
       "    }\n",
       "</style>\n",
       "<table border=\"1\" class=\"dataframe\">\n",
       "  <thead>\n",
       "    <tr style=\"text-align: right;\">\n",
       "      <th></th>\n",
       "      <th>type</th>\n",
       "      <th>year</th>\n",
       "      <th>true_neg</th>\n",
       "      <th>true_pos</th>\n",
       "      <th>kappa</th>\n",
       "      <th>acc</th>\n",
       "    </tr>\n",
       "  </thead>\n",
       "  <tbody>\n",
       "    <tr>\n",
       "      <th>0</th>\n",
       "      <td>velcoh_asc</td>\n",
       "      <td>2018</td>\n",
       "      <td>47</td>\n",
       "      <td>9</td>\n",
       "      <td>0.777778</td>\n",
       "      <td>0.933333</td>\n",
       "    </tr>\n",
       "    <tr>\n",
       "      <th>1</th>\n",
       "      <td>velcoh_both</td>\n",
       "      <td>2018</td>\n",
       "      <td>42</td>\n",
       "      <td>11</td>\n",
       "      <td>0.684685</td>\n",
       "      <td>0.883333</td>\n",
       "    </tr>\n",
       "    <tr>\n",
       "      <th>2</th>\n",
       "      <td>velcoh_count2</td>\n",
       "      <td>2018</td>\n",
       "      <td>42</td>\n",
       "      <td>11</td>\n",
       "      <td>0.684685</td>\n",
       "      <td>0.883333</td>\n",
       "    </tr>\n",
       "    <tr>\n",
       "      <th>3</th>\n",
       "      <td>velcoh_count3</td>\n",
       "      <td>2018</td>\n",
       "      <td>46</td>\n",
       "      <td>10</td>\n",
       "      <td>0.791667</td>\n",
       "      <td>0.933333</td>\n",
       "    </tr>\n",
       "    <tr>\n",
       "      <th>4</th>\n",
       "      <td>velcoh_desc</td>\n",
       "      <td>2018</td>\n",
       "      <td>47</td>\n",
       "      <td>9</td>\n",
       "      <td>0.777778</td>\n",
       "      <td>0.933333</td>\n",
       "    </tr>\n",
       "    <tr>\n",
       "      <th>5</th>\n",
       "      <td>velcoh_asc</td>\n",
       "      <td>2019</td>\n",
       "      <td>43</td>\n",
       "      <td>11</td>\n",
       "      <td>0.722222</td>\n",
       "      <td>0.900000</td>\n",
       "    </tr>\n",
       "    <tr>\n",
       "      <th>6</th>\n",
       "      <td>velcoh_both</td>\n",
       "      <td>2019</td>\n",
       "      <td>42</td>\n",
       "      <td>11</td>\n",
       "      <td>0.684685</td>\n",
       "      <td>0.883333</td>\n",
       "    </tr>\n",
       "    <tr>\n",
       "      <th>7</th>\n",
       "      <td>velcoh_count2</td>\n",
       "      <td>2019</td>\n",
       "      <td>42</td>\n",
       "      <td>11</td>\n",
       "      <td>0.684685</td>\n",
       "      <td>0.883333</td>\n",
       "    </tr>\n",
       "    <tr>\n",
       "      <th>8</th>\n",
       "      <td>velcoh_count3</td>\n",
       "      <td>2019</td>\n",
       "      <td>46</td>\n",
       "      <td>10</td>\n",
       "      <td>0.791667</td>\n",
       "      <td>0.933333</td>\n",
       "    </tr>\n",
       "    <tr>\n",
       "      <th>9</th>\n",
       "      <td>velcoh_desc</td>\n",
       "      <td>2019</td>\n",
       "      <td>43</td>\n",
       "      <td>11</td>\n",
       "      <td>0.722222</td>\n",
       "      <td>0.900000</td>\n",
       "    </tr>\n",
       "    <tr>\n",
       "      <th>10</th>\n",
       "      <td>velcoh_asc</td>\n",
       "      <td>2020</td>\n",
       "      <td>43</td>\n",
       "      <td>4</td>\n",
       "      <td>0.252874</td>\n",
       "      <td>0.783333</td>\n",
       "    </tr>\n",
       "    <tr>\n",
       "      <th>11</th>\n",
       "      <td>velcoh_both</td>\n",
       "      <td>2020</td>\n",
       "      <td>42</td>\n",
       "      <td>6</td>\n",
       "      <td>0.375000</td>\n",
       "      <td>0.800000</td>\n",
       "    </tr>\n",
       "    <tr>\n",
       "      <th>12</th>\n",
       "      <td>velcoh_count2</td>\n",
       "      <td>2020</td>\n",
       "      <td>42</td>\n",
       "      <td>11</td>\n",
       "      <td>0.684685</td>\n",
       "      <td>0.883333</td>\n",
       "    </tr>\n",
       "    <tr>\n",
       "      <th>13</th>\n",
       "      <td>velcoh_count3</td>\n",
       "      <td>2020</td>\n",
       "      <td>46</td>\n",
       "      <td>10</td>\n",
       "      <td>0.791667</td>\n",
       "      <td>0.933333</td>\n",
       "    </tr>\n",
       "    <tr>\n",
       "      <th>14</th>\n",
       "      <td>velcoh_desc</td>\n",
       "      <td>2020</td>\n",
       "      <td>43</td>\n",
       "      <td>4</td>\n",
       "      <td>0.252874</td>\n",
       "      <td>0.783333</td>\n",
       "    </tr>\n",
       "    <tr>\n",
       "      <th>15</th>\n",
       "      <td>velcoh_asc</td>\n",
       "      <td>2021</td>\n",
       "      <td>47</td>\n",
       "      <td>7</td>\n",
       "      <td>0.642857</td>\n",
       "      <td>0.900000</td>\n",
       "    </tr>\n",
       "    <tr>\n",
       "      <th>16</th>\n",
       "      <td>velcoh_both</td>\n",
       "      <td>2021</td>\n",
       "      <td>41</td>\n",
       "      <td>10</td>\n",
       "      <td>0.594595</td>\n",
       "      <td>0.850000</td>\n",
       "    </tr>\n",
       "    <tr>\n",
       "      <th>17</th>\n",
       "      <td>velcoh_count2</td>\n",
       "      <td>2021</td>\n",
       "      <td>42</td>\n",
       "      <td>11</td>\n",
       "      <td>0.684685</td>\n",
       "      <td>0.883333</td>\n",
       "    </tr>\n",
       "    <tr>\n",
       "      <th>18</th>\n",
       "      <td>velcoh_count3</td>\n",
       "      <td>2021</td>\n",
       "      <td>46</td>\n",
       "      <td>10</td>\n",
       "      <td>0.791667</td>\n",
       "      <td>0.933333</td>\n",
       "    </tr>\n",
       "    <tr>\n",
       "      <th>19</th>\n",
       "      <td>velcoh_desc</td>\n",
       "      <td>2021</td>\n",
       "      <td>47</td>\n",
       "      <td>7</td>\n",
       "      <td>0.642857</td>\n",
       "      <td>0.900000</td>\n",
       "    </tr>\n",
       "  </tbody>\n",
       "</table>\n",
       "</div>"
      ],
      "text/plain": [
       "             type  year true_neg true_pos     kappa       acc\n",
       "0      velcoh_asc  2018       47        9  0.777778  0.933333\n",
       "1     velcoh_both  2018       42       11  0.684685  0.883333\n",
       "2   velcoh_count2  2018       42       11  0.684685  0.883333\n",
       "3   velcoh_count3  2018       46       10  0.791667  0.933333\n",
       "4     velcoh_desc  2018       47        9  0.777778  0.933333\n",
       "5      velcoh_asc  2019       43       11  0.722222  0.900000\n",
       "6     velcoh_both  2019       42       11  0.684685  0.883333\n",
       "7   velcoh_count2  2019       42       11  0.684685  0.883333\n",
       "8   velcoh_count3  2019       46       10  0.791667  0.933333\n",
       "9     velcoh_desc  2019       43       11  0.722222  0.900000\n",
       "10     velcoh_asc  2020       43        4  0.252874  0.783333\n",
       "11    velcoh_both  2020       42        6  0.375000  0.800000\n",
       "12  velcoh_count2  2020       42       11  0.684685  0.883333\n",
       "13  velcoh_count3  2020       46       10  0.791667  0.933333\n",
       "14    velcoh_desc  2020       43        4  0.252874  0.783333\n",
       "15     velcoh_asc  2021       47        7  0.642857  0.900000\n",
       "16    velcoh_both  2021       41       10  0.594595  0.850000\n",
       "17  velcoh_count2  2021       42       11  0.684685  0.883333\n",
       "18  velcoh_count3  2021       46       10  0.791667  0.933333\n",
       "19    velcoh_desc  2021       47        7  0.642857  0.900000"
      ]
     },
     "execution_count": 16,
     "metadata": {},
     "output_type": "execute_result"
    }
   ],
   "source": [
    "metrics_yearly.sort_values(['year','type']).reset_index(drop=True)"
   ]
  },
  {
   "cell_type": "markdown",
   "id": "dde621d4-0fd6-4c47-ac1b-4eab803bdf2b",
   "metadata": {},
   "source": [
    "## Scrap"
   ]
  },
  {
   "cell_type": "code",
   "execution_count": 127,
   "id": "de4af41a-d149-42c5-8611-194fc85bd21b",
   "metadata": {},
   "outputs": [],
   "source": [
    "# from sklearn.metrics import cohen_kappa_score, accuracy_score, confusion_matrix\n",
    "cols = ['type','true_neg','true_pos','kappa','acc']\n",
    "metrics = pd.DataFrame(columns=cols)\n",
    "\n",
    "for t in df.type.unique():\n",
    "    sel = df.loc[df.type == t].copy()\n",
    "\n",
    "    conf = confusion_matrix(sel.active,sel.prediction)\n",
    "    kappa = cohen_kappa_score(sel.active,sel.prediction)\n",
    "    acc = accuracy_score(sel.active,sel.prediction)\n",
    "    \n",
    "    metrics = metrics.append(dict(zip(cols,[t,conf[0,0],conf[1,1],kappa,acc])),ignore_index=True)"
   ]
  },
  {
   "cell_type": "code",
   "execution_count": 128,
   "id": "fc4471f1-b61b-4194-8b5c-6cae6e5b9916",
   "metadata": {},
   "outputs": [
    {
     "data": {
      "text/html": [
       "<div>\n",
       "<style scoped>\n",
       "    .dataframe tbody tr th:only-of-type {\n",
       "        vertical-align: middle;\n",
       "    }\n",
       "\n",
       "    .dataframe tbody tr th {\n",
       "        vertical-align: top;\n",
       "    }\n",
       "\n",
       "    .dataframe thead th {\n",
       "        text-align: right;\n",
       "    }\n",
       "</style>\n",
       "<table border=\"1\" class=\"dataframe\">\n",
       "  <thead>\n",
       "    <tr style=\"text-align: right;\">\n",
       "      <th></th>\n",
       "      <th>type</th>\n",
       "      <th>true_neg</th>\n",
       "      <th>true_pos</th>\n",
       "      <th>kappa</th>\n",
       "      <th>acc</th>\n",
       "    </tr>\n",
       "  </thead>\n",
       "  <tbody>\n",
       "    <tr>\n",
       "      <th>1</th>\n",
       "      <td>velcoh_asc</td>\n",
       "      <td>180</td>\n",
       "      <td>31</td>\n",
       "      <td>0.607046</td>\n",
       "      <td>0.879167</td>\n",
       "    </tr>\n",
       "    <tr>\n",
       "      <th>2</th>\n",
       "      <td>velcoh_both</td>\n",
       "      <td>167</td>\n",
       "      <td>38</td>\n",
       "      <td>0.592075</td>\n",
       "      <td>0.854167</td>\n",
       "    </tr>\n",
       "    <tr>\n",
       "      <th>3</th>\n",
       "      <td>velcoh_count2</td>\n",
       "      <td>168</td>\n",
       "      <td>44</td>\n",
       "      <td>0.684685</td>\n",
       "      <td>0.883333</td>\n",
       "    </tr>\n",
       "    <tr>\n",
       "      <th>4</th>\n",
       "      <td>velcoh_count3</td>\n",
       "      <td>184</td>\n",
       "      <td>40</td>\n",
       "      <td>0.791667</td>\n",
       "      <td>0.933333</td>\n",
       "    </tr>\n",
       "    <tr>\n",
       "      <th>0</th>\n",
       "      <td>velcoh_desc</td>\n",
       "      <td>180</td>\n",
       "      <td>31</td>\n",
       "      <td>0.607046</td>\n",
       "      <td>0.879167</td>\n",
       "    </tr>\n",
       "  </tbody>\n",
       "</table>\n",
       "</div>"
      ],
      "text/plain": [
       "            type true_neg true_pos     kappa       acc\n",
       "1     velcoh_asc      180       31  0.607046  0.879167\n",
       "2    velcoh_both      167       38  0.592075  0.854167\n",
       "3  velcoh_count2      168       44  0.684685  0.883333\n",
       "4  velcoh_count3      184       40  0.791667  0.933333\n",
       "0    velcoh_desc      180       31  0.607046  0.879167"
      ]
     },
     "execution_count": 128,
     "metadata": {},
     "output_type": "execute_result"
    }
   ],
   "source": [
    "metrics.sort_values('type')"
   ]
  },
  {
   "cell_type": "code",
   "execution_count": null,
   "id": "1f567c03-db52-49ca-a70b-878ab6921099",
   "metadata": {},
   "outputs": [],
   "source": []
  },
  {
   "cell_type": "markdown",
   "id": "54f12fbe-7e7b-4c93-8459-9410f00568e3",
   "metadata": {},
   "source": [
    "## Done!"
   ]
  },
  {
   "cell_type": "code",
   "execution_count": null,
   "id": "ffbd03a1-bbde-4c48-bf5d-fc41f864d4ad",
   "metadata": {},
   "outputs": [],
   "source": []
  }
 ],
 "metadata": {
  "kernelspec": {
   "display_name": "Python 3 (ipykernel)",
   "language": "python",
   "name": "python3"
  },
  "language_info": {
   "codemirror_mode": {
    "name": "ipython",
    "version": 3
   },
   "file_extension": ".py",
   "mimetype": "text/x-python",
   "name": "python",
   "nbconvert_exporter": "python",
   "pygments_lexer": "ipython3",
   "version": "3.9.5"
  }
 },
 "nbformat": 4,
 "nbformat_minor": 5
}
