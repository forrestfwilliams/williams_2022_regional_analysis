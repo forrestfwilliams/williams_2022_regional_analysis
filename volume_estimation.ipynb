{
 "cells": [
  {
   "cell_type": "markdown",
   "id": "4661ea3b-2185-4d6a-bc9e-f6449bbb161a",
   "metadata": {},
   "source": [
    "## setup"
   ]
  },
  {
   "cell_type": "code",
   "execution_count": 38,
   "id": "b5ae17ca-c826-47cd-997c-aa93c9c6ea5c",
   "metadata": {},
   "outputs": [],
   "source": [
    "%matplotlib inline\n",
    "import matplotlib.pyplot as plt\n",
    "import numpy as np\n",
    "import geopandas as gpd\n",
    "import rasterio as rio\n",
    "import pandas as pd\n",
    "import rasterstats\n",
    "from pathlib import Path\n",
    "from datetime import datetime"
   ]
  },
  {
   "cell_type": "code",
   "execution_count": 4,
   "id": "8dd687a1-3e70-4d64-bbd3-a522e26ec48f",
   "metadata": {},
   "outputs": [
    {
     "name": "stdout",
     "output_type": "stream",
     "text": [
      "/home/micromamba/data\n"
     ]
    }
   ],
   "source": [
    "cd /home/micromamba/data"
   ]
  },
  {
   "cell_type": "code",
   "execution_count": 18,
   "id": "2774fd48-00bd-4c55-9ea7-b9c1b76e9d1f",
   "metadata": {},
   "outputs": [],
   "source": [
    "def read_raster(path,bands=1,crs=False):\n",
    "    # From rasterio docs with modifications\n",
    "    with rio.open(path) as dst:\n",
    "        array = dst.read(bands)\n",
    "        profile = dst.profile\n",
    "        crs_val = dst.crs\n",
    "        # array = np.moveaxis(array,0,-1)\n",
    "    \n",
    "    result = [array, profile]\n",
    "\n",
    "    if crs:\n",
    "        result.append(crs_val)\n",
    "\n",
    "    return result\n",
    "\n",
    "\n",
    "def write_raster(array,profile,out_path,nodata,dtype):\n",
    "    # From rasterio docs:\n",
    "    # Register GDAL format drivers and configuration options with a\n",
    "    # context manager.\n",
    "    with rio.Env():\n",
    "        # And then change the band count to 1, set the\n",
    "        # dtype to uint8, and specify LZW compression.\n",
    "        profile.update(\n",
    "            dtype=dtype,\n",
    "            count=1,\n",
    "            nodata=nodata,\n",
    "            compress='lzw')\n",
    "\n",
    "        with rio.open(out_path, 'w', **profile) as dst:\n",
    "            dst.write(array.astype(dtype), 1)\n",
    "\n",
    "    return out_path\n",
    "\n",
    "def calculate_depth(df,alpha,gamma):\n",
    "\n",
    "    area = df.geometry.area\n",
    "    volume = alpha * (area**gamma)\n",
    "    avg_depth = volume / area\n",
    "    \n",
    "    return avg_depth"
   ]
  },
  {
   "cell_type": "markdown",
   "id": "2569fa66-55a1-4f36-88da-491d41d34074",
   "metadata": {},
   "source": [
    "## planning"
   ]
  },
  {
   "cell_type": "markdown",
   "id": "5a851300-f8f7-4de3-b4c7-b421c2e72fd1",
   "metadata": {},
   "source": [
    "steps:\n",
    "\n",
    "* load data, associate xsection with landslide, velocities\n",
    "* buffer xsection, get zonal sum and count\n",
    "* use these properties to get average movement vector\n",
    "* project this vector into the direction perpendicular to the xsection\n",
    "    * calculate a perpendicular (downhill) unit vector of the xsection\n",
    "        * **make sure downhill is 90 deg clockwise of xsection heading**\n",
    "    * project average velocity vector along this unit vector\n",
    "    * calculate magnitude of this vector\n",
    "* get xsection length\n",
    "* add length and projected velocity attribute to landslide outline\n",
    "* use power law relationship to calculate landslide volume\n",
    "* divide volume by area for average depth\n",
    "* multiply depth * length * velocity to get annual sediment contribution"
   ]
  },
  {
   "cell_type": "markdown",
   "id": "3568cd4f-a16f-4244-ab3e-726e1e0493f0",
   "metadata": {},
   "source": [
    "## load_data"
   ]
  },
  {
   "cell_type": "code",
   "execution_count": 6,
   "id": "3e688709-78ef-4cce-b47a-ddcc048076d5",
   "metadata": {},
   "outputs": [],
   "source": [
    "ls = gpd.read_file('landslides/landslide_sediment.shp')\n",
    "xsections = gpd.read_file('landslides/landslide_sediment_xsections.shp')\n",
    "\n",
    "ls['velocity'] = np.nan\n",
    "ls['length'] = np.nan"
   ]
  },
  {
   "cell_type": "markdown",
   "id": "9028c34f-5584-40ca-ad73-4c42c1f6203b",
   "metadata": {},
   "source": [
    "## calculate length and projected velocity"
   ]
  },
  {
   "cell_type": "code",
   "execution_count": 7,
   "id": "f4887ae4-f59b-4c74-b727-23d179a36379",
   "metadata": {},
   "outputs": [],
   "source": [
    "for i,row in xsections.iterrows():\n",
    "\n",
    "    vel_dir = f'spot/landslide_{row[\"id\"]}'\n",
    "    \n",
    "    if row['id'] == 1:\n",
    "        vel_dir = vel_dir + '_bird'\n",
    "    elif row['id'] == 2:\n",
    "        vel_dir = vel_dir + '_rangitikei'\n",
    "        \n",
    "    vel_dir = Path(vel_dir)\n",
    "    \n",
    "    _, _, ew_crs = read_raster(vel_dir / 'velocity_ew.tif',crs=True)\n",
    "    _, _, sn_crs = read_raster(vel_dir / 'velocity_ns.tif',crs=True)\n",
    "    \n",
    "    if not ls.crs.to_epsg() == xsections.crs.to_epsg() == ew_crs.to_epsg() == sn_crs.to_epsg():\n",
    "        raise Exception('EPSGs DO NOT MATCH!!!')\n",
    "    \n",
    "    line = row['geometry'].buffer(0.1)\n",
    "    ew_z = rasterstats.zonal_stats(line,vel_dir / 'velocity_ew.tif', nodata=0.0, stats='mean', all_touched=True)\n",
    "    sn_z = rasterstats.zonal_stats(line,vel_dir / 'velocity_ns.tif', nodata=0.0, stats='mean', all_touched=True)\n",
    "    \n",
    "    ((x1,y1),(x2,y2)) = list(row['geometry'].coords)\n",
    "    \n",
    "    angle = np.arctan2(y2 - y1,x2 - x1)\n",
    "    rotated = angle - (np.pi/2)\n",
    "    unit_vec = np.array((np.cos(rotated), np.sin(rotated)))\n",
    "\n",
    "    vel_vec = (ew_z[0]['mean'],sn_z[0]['mean'])\n",
    "    \n",
    "    proj_vec = (np.dot(vel_vec, unit_vec)/np.dot(unit_vec, unit_vec))*unit_vec\n",
    "    proj_mag = np.sqrt((proj_vec[0]**2 + proj_vec[1]**2))\n",
    "    \n",
    "    length = row['geometry'].length\n",
    "    \n",
    "    ls.loc[ls['id'] == row['id'], 'velocity'] = proj_mag\n",
    "    ls.loc[ls['id'] == row['id'], 'length'] = length\n"
   ]
  },
  {
   "cell_type": "code",
   "execution_count": 27,
   "id": "c3ae6e93-401b-43fa-8e21-51ba4c7e4fc1",
   "metadata": {},
   "outputs": [
    {
     "data": {
      "text/html": [
       "<div>\n",
       "<style scoped>\n",
       "    .dataframe tbody tr th:only-of-type {\n",
       "        vertical-align: middle;\n",
       "    }\n",
       "\n",
       "    .dataframe tbody tr th {\n",
       "        vertical-align: top;\n",
       "    }\n",
       "\n",
       "    .dataframe thead th {\n",
       "        text-align: right;\n",
       "    }\n",
       "</style>\n",
       "<table border=\"1\" class=\"dataframe\">\n",
       "  <thead>\n",
       "    <tr style=\"text-align: right;\">\n",
       "      <th></th>\n",
       "      <th>id</th>\n",
       "      <th>name</th>\n",
       "      <th>connected</th>\n",
       "      <th>using</th>\n",
       "      <th>notes</th>\n",
       "      <th>geometry</th>\n",
       "      <th>velocity</th>\n",
       "      <th>length</th>\n",
       "      <th>depth</th>\n",
       "      <th>contribution (m3/yr)</th>\n",
       "    </tr>\n",
       "  </thead>\n",
       "  <tbody>\n",
       "    <tr>\n",
       "      <th>0</th>\n",
       "      <td>1</td>\n",
       "      <td>230</td>\n",
       "      <td>0</td>\n",
       "      <td>1</td>\n",
       "      <td>bird landslide</td>\n",
       "      <td>POLYGON ((399048.042 5612834.973, 399065.275 5...</td>\n",
       "      <td>2.366259</td>\n",
       "      <td>566.767243</td>\n",
       "      <td>47.164821</td>\n",
       "      <td>63254.0</td>\n",
       "    </tr>\n",
       "    <tr>\n",
       "      <th>1</th>\n",
       "      <td>2</td>\n",
       "      <td>155</td>\n",
       "      <td>1</td>\n",
       "      <td>1</td>\n",
       "      <td>rangitikei landslide</td>\n",
       "      <td>POLYGON ((401779.927 5598647.141, 401735.447 5...</td>\n",
       "      <td>1.597453</td>\n",
       "      <td>646.648170</td>\n",
       "      <td>52.052480</td>\n",
       "      <td>53770.0</td>\n",
       "    </tr>\n",
       "  </tbody>\n",
       "</table>\n",
       "</div>"
      ],
      "text/plain": [
       "   id  name  connected  using                 notes  \\\n",
       "0   1   230          0      1        bird landslide   \n",
       "1   2   155          1      1  rangitikei landslide   \n",
       "\n",
       "                                            geometry  velocity      length  \\\n",
       "0  POLYGON ((399048.042 5612834.973, 399065.275 5...  2.366259  566.767243   \n",
       "1  POLYGON ((401779.927 5598647.141, 401735.447 5...  1.597453  646.648170   \n",
       "\n",
       "       depth  contribution (m3/yr)  \n",
       "0  47.164821               63254.0  \n",
       "1  52.052480               53770.0  "
      ]
     },
     "execution_count": 27,
     "metadata": {},
     "output_type": "execute_result"
    }
   ],
   "source": [
    "ls['depth'] = calculate_depth(ls,np.e**-0.73,1.35)\n",
    "ls['contribution (m3/yr)'] = (ls['depth'] * ls['velocity'] * ls['length']).round()\n",
    "ls"
   ]
  },
  {
   "cell_type": "markdown",
   "id": "bea62501-7c4d-4b29-8e38-52cc94ee59fe",
   "metadata": {},
   "source": [
    "## validation"
   ]
  },
  {
   "cell_type": "code",
   "execution_count": 58,
   "id": "e5e66673-84b4-4b4c-8db8-93c28e72f1c6",
   "metadata": {},
   "outputs": [
    {
     "data": {
      "text/plain": [
       "72000"
      ]
     },
     "execution_count": 58,
     "metadata": {},
     "output_type": "execute_result"
    }
   ],
   "source": [
    "rangitikei_annual_volume_loss = 72_000\n",
    "rangitikei_annual_volume_loss_range = 51_300\n",
    "rangitikei_annual_volume_loss"
   ]
  },
  {
   "cell_type": "code",
   "execution_count": 62,
   "id": "03d710fa-533b-475e-9744-9392c6d200be",
   "metadata": {},
   "outputs": [
    {
     "data": {
      "text/plain": [
       "54590"
      ]
     },
     "execution_count": 62,
     "metadata": {},
     "output_type": "execute_result"
    }
   ],
   "source": [
    "bird_data = pd.read_csv('/home/micromamba/data/DoD/DoDV2/InterCompare_t80.csv')\n",
    "bird_data = bird_data.loc[bird_data['unit'].isin(['head','toe'])].copy()\n",
    "\n",
    "n_yrs = (datetime(2022,9,1) - datetime(2016,2,1)).days /365.25\n",
    "total_volume_loss = bird_data.loc[bird_data['unit'] == 'head','volume_thresholded'].mean() * -1\n",
    "bird_annual_volume_loss = (total_volume_loss / n_yrs).astype(int)\n",
    "bird_annual_volume_loss"
   ]
  },
  {
   "cell_type": "markdown",
   "id": "29ec5704-8efa-4887-a8e8-743d57207127",
   "metadata": {},
   "source": [
    "## scratch"
   ]
  },
  {
   "cell_type": "code",
   "execution_count": 9,
   "id": "695d096d-937a-4f70-a89a-bb3deb3d3da4",
   "metadata": {},
   "outputs": [
    {
     "data": {
      "text/plain": [
       "array([1., 0.])"
      ]
     },
     "execution_count": 9,
     "metadata": {},
     "output_type": "execute_result"
    }
   ],
   "source": [
    "p1 = (0,0)\n",
    "p2 = (0,1)\n",
    "angle = np.arctan2(p2[1] - p1[1],p2[0] - p1[0])\n",
    "rotated = angle - (np.pi/2)\n",
    "unit_vec = np.array((np.cos(rotated), np.sin(rotated)))\n",
    "unit_vec"
   ]
  },
  {
   "cell_type": "code",
   "execution_count": 10,
   "id": "4aab44a0-ec9f-4977-ae3b-1fad9a6b9e9b",
   "metadata": {},
   "outputs": [
    {
     "data": {
      "text/plain": [
       "array([5, 5])"
      ]
     },
     "execution_count": 10,
     "metadata": {},
     "output_type": "execute_result"
    }
   ],
   "source": [
    "vel_vec = np.array((5,5))\n",
    "vel_vec"
   ]
  },
  {
   "cell_type": "code",
   "execution_count": 11,
   "id": "7fb58b37-ba52-47e5-a3a9-7b19b080935c",
   "metadata": {},
   "outputs": [
    {
     "data": {
      "text/plain": [
       "5.0"
      ]
     },
     "execution_count": 11,
     "metadata": {},
     "output_type": "execute_result"
    }
   ],
   "source": [
    "proj_vec = (np.dot(vel_vec, unit_vec)/np.dot(unit_vec, unit_vec))*unit_vec\n",
    "proj_mag = np.sqrt((proj_vec[0]**2 + proj_vec[1]**2))\n",
    "proj_mag"
   ]
  },
  {
   "cell_type": "code",
   "execution_count": null,
   "id": "1f22039a-5b8c-4967-87d5-15ae8223fc5f",
   "metadata": {},
   "outputs": [],
   "source": []
  }
 ],
 "metadata": {
  "kernelspec": {
   "display_name": "Python 3 (ipykernel)",
   "language": "python",
   "name": "python3"
  },
  "language_info": {
   "codemirror_mode": {
    "name": "ipython",
    "version": 3
   },
   "file_extension": ".py",
   "mimetype": "text/x-python",
   "name": "python",
   "nbconvert_exporter": "python",
   "pygments_lexer": "ipython3",
   "version": "3.9.5"
  }
 },
 "nbformat": 4,
 "nbformat_minor": 5
}
