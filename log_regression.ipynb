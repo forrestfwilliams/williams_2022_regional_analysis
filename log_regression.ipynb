{
 "cells": [
  {
   "cell_type": "markdown",
   "id": "afdfae58-6b31-430a-8317-c6e0eb7a9ddc",
   "metadata": {},
   "source": [
    "## setup"
   ]
  },
  {
   "cell_type": "code",
   "execution_count": 1,
   "id": "f5e53241-c365-4d14-b084-4de4cb7cc9fa",
   "metadata": {},
   "outputs": [
    {
     "name": "stderr",
     "output_type": "stream",
     "text": [
      "/opt/conda/lib/python3.9/site-packages/statsmodels/compat/pandas.py:65: FutureWarning: pandas.Int64Index is deprecated and will be removed from pandas in a future version. Use pandas.Index with the appropriate dtype instead.\n",
      "  from pandas import Int64Index as NumericIndex\n"
     ]
    }
   ],
   "source": [
    "%matplotlib inline\n",
    "\n",
    "import pandas as pd\n",
    "import matplotlib.pyplot as plt\n",
    "import numpy as np\n",
    "import pandas as pd\n",
    "import re\n",
    "import os\n",
    "import glob\n",
    "from patsy import dmatrices\n",
    "import statsmodels.api as sm\n",
    "from statsmodels.stats.outliers_influence import variance_inflation_factor\n",
    "\n",
    "from sklearn import preprocessing\n",
    "from sklearn.model_selection import KFold\n",
    "from sklearn.metrics import confusion_matrix, roc_curve, auc, log_loss, accuracy_score"
   ]
  },
  {
   "cell_type": "code",
   "execution_count": 2,
   "id": "17fc43bd-853f-41ec-811b-1753ebd17e07",
   "metadata": {},
   "outputs": [],
   "source": [
    "import warnings\n",
    "warnings.filterwarnings('ignore')"
   ]
  },
  {
   "cell_type": "markdown",
   "id": "17f9de0e-4f92-4069-82d3-fe802f4ca0c5",
   "metadata": {},
   "source": [
    "### functions"
   ]
  },
  {
   "cell_type": "code",
   "execution_count": 20,
   "id": "5570997f-a60c-4687-a60a-49a781babcf5",
   "metadata": {},
   "outputs": [],
   "source": [
    "def determine_alpha(y, X, alphas, splits):\n",
    "    results = pd.DataFrame()\n",
    "    for a in alphas:\n",
    "        _, _, accuracy = cv_regression(y, X, a, splits)\n",
    "        accuracy['alpha'] = a\n",
    "        results = results.append(accuracy)\n",
    "    \n",
    "    mean = results.groupby('alpha').mean()\n",
    "    stdev = results.groupby('alpha').std()\n",
    "    summary = mean.join(stdev,lsuffix='_mean', rsuffix='_std').reset_index()\n",
    "\n",
    "    return summary\n",
    "\n",
    "\n",
    "def cv_regression(y, X, alpha, splits, get_prediction=False):\n",
    "    pvalue = pd.DataFrame()\n",
    "    coeff = pd.DataFrame()\n",
    "    accuracy = pd.DataFrame()\n",
    "    prediction = y.copy()\n",
    "    prediction['pred'] = -1\n",
    "    prediction['pred_bin'] = -1\n",
    "    \n",
    "    if splits ==  1:\n",
    "        model = sm.Logit(y, X)\n",
    "        fit = model.fit_regularized(method='l1', alpha=alpha, maxiter=10000, disp=False)\n",
    "\n",
    "        y_predict = model.predict(fit.params, X)\n",
    "        y_binary = y_predict.round()\n",
    "        prediction.iloc[:,1] = y_predict\n",
    "        prediction.iloc[:,2] = y_binary\n",
    "        \n",
    "        fpr, tpr, thresholds = roc_curve(y, y_predict)\n",
    "        aucVal = auc(fpr, tpr)\n",
    "        accVal = accuracy_score(y, y_binary)\n",
    "        accuracy = accuracy.append(pd.Series(data=[accVal, aucVal], index=['accuracy', 'auc']), ignore_index=True)\n",
    "        coeff = coeff.append(fit.params, ignore_index=True)\n",
    "        pvalue = pvalue.append(fit.pvalues, ignore_index=True)\n",
    "        \n",
    "    \n",
    "    else:\n",
    "        kf = KFold(n_splits=splits, shuffle=True)\n",
    "        for i, [train_index, test_index] in enumerate(kf.split(X)):\n",
    "            X_train, X_test = X.iloc[train_index], X.iloc[test_index]\n",
    "            y_train, y_test = y.iloc[train_index], y.iloc[test_index]\n",
    "            model = sm.Logit(y_train, X_train)\n",
    "            fit = model.fit_regularized(method='l1', alpha=alpha, maxiter=10000, disp=False)\n",
    "            y_predict = model.predict(fit.params, X_test)\n",
    "            y_binary = y_predict.round()\n",
    "            prediction.iloc[test_index,1] = y_predict\n",
    "            prediction.iloc[test_index,2] = y_binary\n",
    "\n",
    "            fpr, tpr, thresholds = roc_curve(y_test, y_predict)\n",
    "            aucVal = auc(fpr, tpr)\n",
    "            accVal = accuracy_score(y_test, y_binary)\n",
    "\n",
    "            accuracy = accuracy.append(pd.Series(data=[accVal, aucVal], index=['accuracy', 'auc']), ignore_index=True)\n",
    "            coeff = coeff.append(fit.params, ignore_index=True)\n",
    "            pvalue = pvalue.append(fit.pvalues, ignore_index=True)\n",
    "\n",
    "    if get_prediction:\n",
    "        return(coeff,pvalue,accuracy,prediction)\n",
    "    else:\n",
    "        return(coeff,pvalue,accuracy)\n",
    "\n",
    "def jacknife(yFull, XFull, alpha, splits, all_but=False):\n",
    "    factors = list(XFull.columns)\n",
    "    factors.remove('Intercept')\n",
    "\n",
    "    columns = [f'run{x+1}' for x in range(0,splits)]\n",
    "    df = pd.DataFrame(index=factors, columns=columns)\n",
    " \n",
    "    for factor in factors:\n",
    "        if all_but:\n",
    "            X = XFull.drop(factor,axis=1)\n",
    "        else:\n",
    "            X = XFull.loc[:,['Intercept', factor]]\n",
    "\n",
    "        coeff, pvalue, accuracy = cv_regression(yFull, X, alpha, splits)\n",
    "        auc = list(accuracy['auc'])\n",
    "        df.loc[factor] = auc\n",
    "    \n",
    "    return(df)\n",
    "\n",
    "\n",
    "def run_regression(dataset,output,drops,alpha,splits):\n",
    "    y, X, df = create_data(dataset,'datasets.xlsx', drop=drops, return_df=True)\n",
    "    coeff, pvalue, accuracy, prediction = cv_regression(y, X, alpha, splits, get_prediction=True)\n",
    "\n",
    "    prediction = prediction.drop('presence',axis=1)\n",
    "    prediction_df = pd.merge(df,prediction,left_index=True,right_index=True)\n",
    "    prediction_df['correct'] = (prediction_df['presence']==prediction_df['pred_bin']).astype('int')\n",
    "\n",
    "    jth_df = jacknife(y, X, 5, 10, all_but=False)\n",
    "    allbut_df = jacknife(y, X, 5, 10, all_but=True)\n",
    "\n",
    "    coeff_summary = pd.DataFrame({'coefficient':coeff.mean(axis=0, skipna = True),\n",
    "                                  'p_value':pvalue.mean(axis=0, skipna = True)})\n",
    "    coeff_summary['|coefficient|'] = coeff_summary['coefficient'].abs()\n",
    "    coeff_summary = coeff_summary.sort_values(by='p_value')\n",
    "    acc_summary = pd.DataFrame({'results':accuracy.mean(axis=0, skipna = True)})\n",
    "\n",
    "    with pd.ExcelWriter(output) as writer:\n",
    "        acc_summary.to_excel(writer, sheet_name='acc_summary')\n",
    "        coeff_summary.to_excel(writer, sheet_name='coeff_summary')\n",
    "        accuracy.to_excel(writer, sheet_name='accuracy', index=False)\n",
    "        coeff.to_excel(writer, sheet_name='coefficients', index=False)\n",
    "        pvalue.to_excel(writer, sheet_name='p_values', index=False)\n",
    "        jth_df.to_excel(writer, sheet_name='jth', index=False)\n",
    "        allbut_df.to_excel(writer, sheet_name='allbut', index=False)\n",
    "        prediction_df.to_excel(writer, sheet_name='prediction', index=False)\n",
    "\n",
    "    print(acc_summary)\n",
    "    print(confusion_matrix(prediction_df['presence'], prediction_df['pred_bin']))\n",
    "    return"
   ]
  },
  {
   "cell_type": "code",
   "execution_count": 4,
   "id": "179fde82-3a58-46a1-b6b8-1d7ba1ab210b",
   "metadata": {},
   "outputs": [
    {
     "name": "stdout",
     "output_type": "stream",
     "text": [
      "/home/micromamba/data\n"
     ]
    }
   ],
   "source": [
    "cd /home/micromamba/data"
   ]
  },
  {
   "cell_type": "code",
   "execution_count": 5,
   "id": "997988dc-c2c6-4bf0-8a62-2f9eac2ac3f1",
   "metadata": {},
   "outputs": [],
   "source": [
    "# geology groups\n",
    "# bulk_groups = ['sandstone', 'mudstone']\n",
    "# units = ['mangarere', 'vinhill', 'tangahoe', 'tikapu', 'kaiiwi', 'lateplio',\n",
    "#        'okiwalow', 'maxwell', 'okehu', 'paparangi', 'shakes', 'okiwaup',\n",
    "#        'utiku', 'whenuakura']\n",
    "\n",
    "# columns to keep\n",
    "# keeps = ['Name', 'class', 'activity', 'incision', 'slope', 'forest', 'tobia', 'rainfall', 'pga',\n",
    "#         'spi', 'max_elev', 'age_qt', 'cos_aspect', 'uplift', 'sin_aspect', 'dip',\n",
    "#         'dTOAfault', 'soil_moist',  'dTOfault', 'age_epl']"
   ]
  },
  {
   "cell_type": "code",
   "execution_count": 6,
   "id": "a02c8ef6-798b-4e96-9d4d-5de450df530e",
   "metadata": {},
   "outputs": [],
   "source": [
    "y_name = 'activity'\n",
    "x_names = ['incision', 'slope', 'forest', 'tobia', 'rainfall', 'pga',\n",
    "        'spi', 'max_elev', 'age_qt', 'cos_aspect', 'uplift', 'sin_aspect', 'dip',\n",
    "        'dTOAfault', 'soil_moist',  'dTOfault', 'age_epl', 'profc', 'planc','std_elev','river_dist',]\n",
    "\n",
    "# x_names = ['incision', 'slope', 'forest', 'tobia', 'rainfall', 'pga',\n",
    "#         'spi', 'max_elev', 'age_qt', 'cos_aspect', 'uplift', 'sin_aspect', 'dip',\n",
    "#         'dTOAfault', 'soil_moist',  'dTOfault', 'age_epl']"
   ]
  },
  {
   "cell_type": "code",
   "execution_count": 7,
   "id": "f62e06c7-f2ea-48a1-908d-43f77bd48a69",
   "metadata": {},
   "outputs": [],
   "source": [
    "planar = pd.read_csv('log_reg/zonal_stats_planar.csv')\n",
    "rotational = pd.read_csv('log_reg/zonal_stats_rotational.csv')\n",
    "\n",
    "zstats = planar.append(rotational).reset_index(drop=True)\n",
    "zstats = zstats.loc[zstats['presence'] == 1]\n",
    "zstats['Name'] = zstats['Name'].astype(int)\n",
    "\n",
    "activity = pd.read_csv('landslides/large_landslides_activeV2.csv').loc[:,['Name','evidence']]\n",
    "activity['Name'] = activity['Name'].astype(int)\n",
    "zstats = zstats.set_index('Name').join(activity.set_index('Name')).reset_index()\n",
    "zstats = zstats.rename(columns={'evidence':'activity'})\n",
    "zstats.loc[zstats['activity'] == -1,'activity'] = 0\n",
    "\n",
    "zstats = zstats[[y_name]+x_names].dropna()"
   ]
  },
  {
   "cell_type": "code",
   "execution_count": 8,
   "id": "c7692052-52c6-45e0-be4c-6bdd995a6a46",
   "metadata": {},
   "outputs": [
    {
     "data": {
      "text/plain": [
       "(870, 22)"
      ]
     },
     "execution_count": 8,
     "metadata": {},
     "output_type": "execute_result"
    }
   ],
   "source": [
    "zstats.shape"
   ]
  },
  {
   "cell_type": "markdown",
   "id": "51a9e714-06b5-4a80-b285-b73e1faf879a",
   "metadata": {},
   "source": [
    "## regression"
   ]
  },
  {
   "cell_type": "markdown",
   "id": "e4004772-4087-435b-86db-d6576a29ca24",
   "metadata": {},
   "source": [
    "#### scale data"
   ]
  },
  {
   "cell_type": "code",
   "execution_count": 9,
   "id": "d4796ca9-5155-49f6-a06a-af79d13ffe62",
   "metadata": {},
   "outputs": [],
   "source": [
    "# Create the Scaler object\n",
    "scaler = preprocessing.StandardScaler()\n",
    "\n",
    "# Fit data to the scaler object\n",
    "scaled_data = scaler.fit_transform(zstats[x_names])\n",
    "input_data = pd.DataFrame(scaled_data, columns=x_names).join(zstats[y_name])\n",
    "equation = f'activity ~ {\" + \".join(x_names)}'\n",
    "y, X = dmatrices(equation, data=input_data, return_type='dataframe')"
   ]
  },
  {
   "cell_type": "markdown",
   "id": "cbf9f0ec-7c85-40d0-b895-4e534c4bfaae",
   "metadata": {},
   "source": [
    "#### inspect variable inflation factor and correlation"
   ]
  },
  {
   "cell_type": "code",
   "execution_count": 10,
   "id": "11e7547e-01d3-4c42-873b-7e4b50d1d793",
   "metadata": {},
   "outputs": [
    {
     "data": {
      "text/html": [
       "<div>\n",
       "<style scoped>\n",
       "    .dataframe tbody tr th:only-of-type {\n",
       "        vertical-align: middle;\n",
       "    }\n",
       "\n",
       "    .dataframe tbody tr th {\n",
       "        vertical-align: top;\n",
       "    }\n",
       "\n",
       "    .dataframe thead th {\n",
       "        text-align: right;\n",
       "    }\n",
       "</style>\n",
       "<table border=\"1\" class=\"dataframe\">\n",
       "  <thead>\n",
       "    <tr style=\"text-align: right;\">\n",
       "      <th></th>\n",
       "      <th>VIF</th>\n",
       "      <th>features</th>\n",
       "    </tr>\n",
       "  </thead>\n",
       "  <tbody>\n",
       "    <tr>\n",
       "      <th>0</th>\n",
       "      <td>7.5</td>\n",
       "      <td>uplift</td>\n",
       "    </tr>\n",
       "    <tr>\n",
       "      <th>1</th>\n",
       "      <td>7.3</td>\n",
       "      <td>soil_moist</td>\n",
       "    </tr>\n",
       "    <tr>\n",
       "      <th>2</th>\n",
       "      <td>6.2</td>\n",
       "      <td>max_elev</td>\n",
       "    </tr>\n",
       "    <tr>\n",
       "      <th>3</th>\n",
       "      <td>6.1</td>\n",
       "      <td>rainfall</td>\n",
       "    </tr>\n",
       "    <tr>\n",
       "      <th>4</th>\n",
       "      <td>5.2</td>\n",
       "      <td>age_qt</td>\n",
       "    </tr>\n",
       "    <tr>\n",
       "      <th>5</th>\n",
       "      <td>4.9</td>\n",
       "      <td>tobia</td>\n",
       "    </tr>\n",
       "    <tr>\n",
       "      <th>6</th>\n",
       "      <td>4.2</td>\n",
       "      <td>slope</td>\n",
       "    </tr>\n",
       "    <tr>\n",
       "      <th>7</th>\n",
       "      <td>3.9</td>\n",
       "      <td>pga</td>\n",
       "    </tr>\n",
       "    <tr>\n",
       "      <th>8</th>\n",
       "      <td>2.6</td>\n",
       "      <td>dip</td>\n",
       "    </tr>\n",
       "    <tr>\n",
       "      <th>9</th>\n",
       "      <td>2.4</td>\n",
       "      <td>age_epl</td>\n",
       "    </tr>\n",
       "    <tr>\n",
       "      <th>10</th>\n",
       "      <td>2.3</td>\n",
       "      <td>std_elev</td>\n",
       "    </tr>\n",
       "    <tr>\n",
       "      <th>11</th>\n",
       "      <td>2.3</td>\n",
       "      <td>incision</td>\n",
       "    </tr>\n",
       "    <tr>\n",
       "      <th>12</th>\n",
       "      <td>1.9</td>\n",
       "      <td>profc</td>\n",
       "    </tr>\n",
       "    <tr>\n",
       "      <th>13</th>\n",
       "      <td>1.9</td>\n",
       "      <td>dTOAfault</td>\n",
       "    </tr>\n",
       "    <tr>\n",
       "      <th>14</th>\n",
       "      <td>1.5</td>\n",
       "      <td>dTOfault</td>\n",
       "    </tr>\n",
       "    <tr>\n",
       "      <th>15</th>\n",
       "      <td>1.4</td>\n",
       "      <td>sin_aspect</td>\n",
       "    </tr>\n",
       "    <tr>\n",
       "      <th>16</th>\n",
       "      <td>1.3</td>\n",
       "      <td>planc</td>\n",
       "    </tr>\n",
       "    <tr>\n",
       "      <th>17</th>\n",
       "      <td>1.2</td>\n",
       "      <td>spi</td>\n",
       "    </tr>\n",
       "    <tr>\n",
       "      <th>18</th>\n",
       "      <td>1.1</td>\n",
       "      <td>river_dist</td>\n",
       "    </tr>\n",
       "    <tr>\n",
       "      <th>19</th>\n",
       "      <td>1.1</td>\n",
       "      <td>cos_aspect</td>\n",
       "    </tr>\n",
       "    <tr>\n",
       "      <th>20</th>\n",
       "      <td>1.1</td>\n",
       "      <td>forest</td>\n",
       "    </tr>\n",
       "    <tr>\n",
       "      <th>21</th>\n",
       "      <td>1.0</td>\n",
       "      <td>Intercept</td>\n",
       "    </tr>\n",
       "  </tbody>\n",
       "</table>\n",
       "</div>"
      ],
      "text/plain": [
       "    VIF    features\n",
       "0   7.5      uplift\n",
       "1   7.3  soil_moist\n",
       "2   6.2    max_elev\n",
       "3   6.1    rainfall\n",
       "4   5.2      age_qt\n",
       "5   4.9       tobia\n",
       "6   4.2       slope\n",
       "7   3.9         pga\n",
       "8   2.6         dip\n",
       "9   2.4     age_epl\n",
       "10  2.3    std_elev\n",
       "11  2.3    incision\n",
       "12  1.9       profc\n",
       "13  1.9   dTOAfault\n",
       "14  1.5    dTOfault\n",
       "15  1.4  sin_aspect\n",
       "16  1.3       planc\n",
       "17  1.2         spi\n",
       "18  1.1  river_dist\n",
       "19  1.1  cos_aspect\n",
       "20  1.1      forest\n",
       "21  1.0   Intercept"
      ]
     },
     "execution_count": 10,
     "metadata": {},
     "output_type": "execute_result"
    }
   ],
   "source": [
    "# For each X, calculate VIF and save in dataframe\n",
    "vif = pd.DataFrame()\n",
    "vif[\"VIF\"] = [variance_inflation_factor(X.values, i) for i in range(X.shape[1])]\n",
    "vif[\"features\"] = X.columns\n",
    "vif.round(1).sort_values('VIF',ascending=False).reset_index(drop=True)"
   ]
  },
  {
   "cell_type": "code",
   "execution_count": 11,
   "id": "c15f740b-c04d-4474-9ae4-dc0c27ee71f4",
   "metadata": {},
   "outputs": [
    {
     "data": {
      "text/plain": [
       "<matplotlib.colorbar.Colorbar at 0x7fb181525d60>"
      ]
     },
     "execution_count": 11,
     "metadata": {},
     "output_type": "execute_result"
    },
    {
     "data": {
      "image/png": "[encoded data removed]",
      "text/plain": [
       "<Figure size 864x864 with 2 Axes>"
      ]
     },
     "metadata": {
      "needs_background": "light"
     },
     "output_type": "display_data"
    }
   ],
   "source": [
    "corr = X.iloc[:,1:].corr().round(2)\n",
    "names = list(corr.columns)\n",
    "pos = np.arange(len(names))\n",
    "\n",
    "f, ax = plt.subplots(1,1,figsize=(12,12))\n",
    "\n",
    "cax = ax.matshow(corr,cmap='coolwarm',vmin=-1,vmax=1)\n",
    "xtick = plt.xticks(pos,names,rotation=45,fontsize=9)\n",
    "ytick = plt.yticks(pos,names,fontsize=9)\n",
    "\n",
    "f.colorbar(cax,fraction=0.045)"
   ]
  },
  {
   "cell_type": "code",
   "execution_count": 12,
   "id": "4c5cf971-922f-4c21-a1a2-d55efb963cd9",
   "metadata": {},
   "outputs": [],
   "source": [
    "drop_cols = list(vif.loc[vif['VIF'] > 7,'features'])"
   ]
  },
  {
   "cell_type": "code",
   "execution_count": 13,
   "id": "bd80388d-5654-4cfc-b0d3-d2d8b48cf150",
   "metadata": {},
   "outputs": [
    {
     "data": {
      "text/html": [
       "<div>\n",
       "<style scoped>\n",
       "    .dataframe tbody tr th:only-of-type {\n",
       "        vertical-align: middle;\n",
       "    }\n",
       "\n",
       "    .dataframe tbody tr th {\n",
       "        vertical-align: top;\n",
       "    }\n",
       "\n",
       "    .dataframe thead th {\n",
       "        text-align: right;\n",
       "    }\n",
       "</style>\n",
       "<table border=\"1\" class=\"dataframe\">\n",
       "  <thead>\n",
       "    <tr style=\"text-align: right;\">\n",
       "      <th></th>\n",
       "      <th>VIF</th>\n",
       "      <th>features</th>\n",
       "    </tr>\n",
       "  </thead>\n",
       "  <tbody>\n",
       "    <tr>\n",
       "      <th>0</th>\n",
       "      <td>4.8</td>\n",
       "      <td>tobia</td>\n",
       "    </tr>\n",
       "    <tr>\n",
       "      <th>1</th>\n",
       "      <td>4.2</td>\n",
       "      <td>slope</td>\n",
       "    </tr>\n",
       "    <tr>\n",
       "      <th>2</th>\n",
       "      <td>3.6</td>\n",
       "      <td>pga</td>\n",
       "    </tr>\n",
       "    <tr>\n",
       "      <th>3</th>\n",
       "      <td>3.3</td>\n",
       "      <td>age_qt</td>\n",
       "    </tr>\n",
       "    <tr>\n",
       "      <th>4</th>\n",
       "      <td>2.9</td>\n",
       "      <td>max_elev</td>\n",
       "    </tr>\n",
       "    <tr>\n",
       "      <th>5</th>\n",
       "      <td>2.4</td>\n",
       "      <td>dip</td>\n",
       "    </tr>\n",
       "    <tr>\n",
       "      <th>6</th>\n",
       "      <td>2.3</td>\n",
       "      <td>age_epl</td>\n",
       "    </tr>\n",
       "    <tr>\n",
       "      <th>7</th>\n",
       "      <td>2.2</td>\n",
       "      <td>std_elev</td>\n",
       "    </tr>\n",
       "    <tr>\n",
       "      <th>8</th>\n",
       "      <td>2.2</td>\n",
       "      <td>incision</td>\n",
       "    </tr>\n",
       "    <tr>\n",
       "      <th>9</th>\n",
       "      <td>2.1</td>\n",
       "      <td>rainfall</td>\n",
       "    </tr>\n",
       "    <tr>\n",
       "      <th>10</th>\n",
       "      <td>1.8</td>\n",
       "      <td>profc</td>\n",
       "    </tr>\n",
       "    <tr>\n",
       "      <th>11</th>\n",
       "      <td>1.6</td>\n",
       "      <td>dTOAfault</td>\n",
       "    </tr>\n",
       "    <tr>\n",
       "      <th>12</th>\n",
       "      <td>1.5</td>\n",
       "      <td>dTOfault</td>\n",
       "    </tr>\n",
       "    <tr>\n",
       "      <th>13</th>\n",
       "      <td>1.4</td>\n",
       "      <td>sin_aspect</td>\n",
       "    </tr>\n",
       "    <tr>\n",
       "      <th>14</th>\n",
       "      <td>1.3</td>\n",
       "      <td>planc</td>\n",
       "    </tr>\n",
       "    <tr>\n",
       "      <th>15</th>\n",
       "      <td>1.1</td>\n",
       "      <td>cos_aspect</td>\n",
       "    </tr>\n",
       "    <tr>\n",
       "      <th>16</th>\n",
       "      <td>1.1</td>\n",
       "      <td>river_dist</td>\n",
       "    </tr>\n",
       "    <tr>\n",
       "      <th>17</th>\n",
       "      <td>1.1</td>\n",
       "      <td>spi</td>\n",
       "    </tr>\n",
       "    <tr>\n",
       "      <th>18</th>\n",
       "      <td>1.1</td>\n",
       "      <td>forest</td>\n",
       "    </tr>\n",
       "    <tr>\n",
       "      <th>19</th>\n",
       "      <td>1.0</td>\n",
       "      <td>Intercept</td>\n",
       "    </tr>\n",
       "  </tbody>\n",
       "</table>\n",
       "</div>"
      ],
      "text/plain": [
       "    VIF    features\n",
       "0   4.8       tobia\n",
       "1   4.2       slope\n",
       "2   3.6         pga\n",
       "3   3.3      age_qt\n",
       "4   2.9    max_elev\n",
       "5   2.4         dip\n",
       "6   2.3     age_epl\n",
       "7   2.2    std_elev\n",
       "8   2.2    incision\n",
       "9   2.1    rainfall\n",
       "10  1.8       profc\n",
       "11  1.6   dTOAfault\n",
       "12  1.5    dTOfault\n",
       "13  1.4  sin_aspect\n",
       "14  1.3       planc\n",
       "15  1.1  cos_aspect\n",
       "16  1.1  river_dist\n",
       "17  1.1         spi\n",
       "18  1.1      forest\n",
       "19  1.0   Intercept"
      ]
     },
     "execution_count": 13,
     "metadata": {},
     "output_type": "execute_result"
    }
   ],
   "source": [
    "X = X.drop(columns=drop_cols)\n",
    "vif = pd.DataFrame()\n",
    "vif[\"VIF\"] = [variance_inflation_factor(X.values, i) for i in range(X.shape[1])]\n",
    "vif[\"features\"] = X.columns\n",
    "vif.round(1).sort_values('VIF',ascending=False).reset_index(drop=True)"
   ]
  },
  {
   "cell_type": "markdown",
   "id": "718857a9-7484-414b-8ef2-28c476015434",
   "metadata": {},
   "source": [
    "#### select alpha"
   ]
  },
  {
   "cell_type": "code",
   "execution_count": 30,
   "id": "297098fb-8054-4378-9f56-d1924797d31b",
   "metadata": {},
   "outputs": [],
   "source": [
    "alpha_trials = determine_alpha(y, X, np.logspace(0,3,30), 10)"
   ]
  },
  {
   "cell_type": "code",
   "execution_count": 31,
   "id": "6283386a-a8ba-496e-983d-dc36440ea186",
   "metadata": {},
   "outputs": [
    {
     "data": {
      "text/plain": [
       "[Text(0.5, 0, 'log10 alpha'), Text(0, 0.5, 'accuracy')]"
      ]
     },
     "execution_count": 31,
     "metadata": {},
     "output_type": "execute_result"
    },
    {
     "data": {
      "image/png": "[encoded data removed]",
      "text/plain": [
       "<Figure size 720x360 with 2 Axes>"
      ]
     },
     "metadata": {
      "needs_background": "light"
     },
     "output_type": "display_data"
    }
   ],
   "source": [
    "f, (ax1,ax2) = plt.subplots(1,2,figsize=(10,5))\n",
    "\n",
    "ax1.errorbar(alpha_trials['alpha'],alpha_trials['auc_mean'],yerr=alpha_trials['auc_std'],color='blue')\n",
    "ax1.semilogx()\n",
    "ax1.set(xlabel='log10 alpha',ylabel='auc')\n",
    "# ax1.set_xlim(0,10)\n",
    "\n",
    "ax2.errorbar(alpha_trials['alpha'],alpha_trials['accuracy_mean'],yerr=alpha_trials['accuracy_std'],color='red')\n",
    "ax2.semilogx()\n",
    "ax2.set(xlabel='log10 alpha',ylabel='accuracy')"
   ]
  },
  {
   "cell_type": "code",
   "execution_count": 32,
   "id": "26082e77-80b9-490e-83b9-da2ccbf4af59",
   "metadata": {},
   "outputs": [
    {
     "data": {
      "text/html": [
       "<div>\n",
       "<style scoped>\n",
       "    .dataframe tbody tr th:only-of-type {\n",
       "        vertical-align: middle;\n",
       "    }\n",
       "\n",
       "    .dataframe tbody tr th {\n",
       "        vertical-align: top;\n",
       "    }\n",
       "\n",
       "    .dataframe thead th {\n",
       "        text-align: right;\n",
       "    }\n",
       "</style>\n",
       "<table border=\"1\" class=\"dataframe\">\n",
       "  <thead>\n",
       "    <tr style=\"text-align: right;\">\n",
       "      <th></th>\n",
       "      <th>alpha</th>\n",
       "      <th>accuracy_mean</th>\n",
       "      <th>auc_mean</th>\n",
       "      <th>accuracy_std</th>\n",
       "      <th>auc_std</th>\n",
       "    </tr>\n",
       "  </thead>\n",
       "  <tbody>\n",
       "    <tr>\n",
       "      <th>7</th>\n",
       "      <td>5.298317</td>\n",
       "      <td>0.928655</td>\n",
       "      <td>0.784259</td>\n",
       "      <td>0.031027</td>\n",
       "      <td>0.08903</td>\n",
       "    </tr>\n",
       "  </tbody>\n",
       "</table>\n",
       "</div>"
      ],
      "text/plain": [
       "      alpha  accuracy_mean  auc_mean  accuracy_std  auc_std\n",
       "7  5.298317       0.928655  0.784259      0.031027  0.08903"
      ]
     },
     "execution_count": 32,
     "metadata": {},
     "output_type": "execute_result"
    }
   ],
   "source": [
    "alpha = 5\n",
    "alpha_trials.loc[(alpha_trials['alpha']>=alpha-0.5) & (alpha_trials['alpha']<=alpha+0.5)]"
   ]
  },
  {
   "cell_type": "markdown",
   "id": "87be826b-9952-4821-a9ea-eaaa0c4272ca",
   "metadata": {},
   "source": [
    "#### run regression"
   ]
  },
  {
   "cell_type": "code",
   "execution_count": 33,
   "id": "f00a3d04-537c-4931-b204-a6af57fbe928",
   "metadata": {},
   "outputs": [],
   "source": [
    "alpha = 5\n",
    "splits = 10"
   ]
  },
  {
   "cell_type": "code",
   "execution_count": 34,
   "id": "45e55ca8-786f-41e9-ad93-f4b7b0d14d9e",
   "metadata": {},
   "outputs": [],
   "source": [
    "coeff, pvalue, accuracy = cv_regression(y, X, alpha, splits)\n",
    "jth_df = jacknife(y, X, alpha, splits, all_but=False)\n",
    "allbut_df = jacknife(y, X, alpha, splits, all_but=True)"
   ]
  },
  {
   "cell_type": "code",
   "execution_count": 35,
   "id": "b3ddb935-8cfd-4ad3-8d83-fe4e46598e98",
   "metadata": {},
   "outputs": [],
   "source": [
    "coeff_summary = pd.DataFrame({'coefficient':coeff.mean(axis=0, skipna = True),\n",
    "                              'p_value':pvalue.mean(axis=0, skipna = True)})\n",
    "coeff_summary['|coefficient|'] = coeff_summary['coefficient'].abs()\n",
    "coeff_summary = coeff_summary.sort_values(by='|coefficient|',ascending=False)\n",
    "acc_summary = pd.DataFrame({'results':accuracy.mean(axis=0, skipna = True)})"
   ]
  },
  {
   "cell_type": "code",
   "execution_count": 36,
   "id": "ab1c3ab8-3739-41ad-9ad0-85f851f78198",
   "metadata": {},
   "outputs": [
    {
     "data": {
      "text/html": [
       "<div>\n",
       "<style scoped>\n",
       "    .dataframe tbody tr th:only-of-type {\n",
       "        vertical-align: middle;\n",
       "    }\n",
       "\n",
       "    .dataframe tbody tr th {\n",
       "        vertical-align: top;\n",
       "    }\n",
       "\n",
       "    .dataframe thead th {\n",
       "        text-align: right;\n",
       "    }\n",
       "</style>\n",
       "<table border=\"1\" class=\"dataframe\">\n",
       "  <thead>\n",
       "    <tr style=\"text-align: right;\">\n",
       "      <th></th>\n",
       "      <th>results</th>\n",
       "    </tr>\n",
       "  </thead>\n",
       "  <tbody>\n",
       "    <tr>\n",
       "      <th>accuracy</th>\n",
       "      <td>0.929818</td>\n",
       "    </tr>\n",
       "    <tr>\n",
       "      <th>auc</th>\n",
       "      <td>0.782827</td>\n",
       "    </tr>\n",
       "  </tbody>\n",
       "</table>\n",
       "</div>"
      ],
      "text/plain": [
       "           results\n",
       "accuracy  0.929818\n",
       "auc       0.782827"
      ]
     },
     "execution_count": 36,
     "metadata": {},
     "output_type": "execute_result"
    }
   ],
   "source": [
    "acc_summary"
   ]
  },
  {
   "cell_type": "code",
   "execution_count": 37,
   "id": "4c0d3522-feec-4359-bf73-d28cbd1ed082",
   "metadata": {},
   "outputs": [
    {
     "data": {
      "text/html": [
       "<div>\n",
       "<style scoped>\n",
       "    .dataframe tbody tr th:only-of-type {\n",
       "        vertical-align: middle;\n",
       "    }\n",
       "\n",
       "    .dataframe tbody tr th {\n",
       "        vertical-align: top;\n",
       "    }\n",
       "\n",
       "    .dataframe thead th {\n",
       "        text-align: right;\n",
       "    }\n",
       "</style>\n",
       "<table border=\"1\" class=\"dataframe\">\n",
       "  <thead>\n",
       "    <tr style=\"text-align: right;\">\n",
       "      <th></th>\n",
       "      <th>coefficient</th>\n",
       "      <th>p_value</th>\n",
       "      <th>|coefficient|</th>\n",
       "    </tr>\n",
       "  </thead>\n",
       "  <tbody>\n",
       "    <tr>\n",
       "      <th>Intercept</th>\n",
       "      <td>-2.830662</td>\n",
       "      <td>9.284942e-59</td>\n",
       "      <td>2.830662</td>\n",
       "    </tr>\n",
       "    <tr>\n",
       "      <th>slope</th>\n",
       "      <td>-0.882267</td>\n",
       "      <td>6.436829e-05</td>\n",
       "      <td>0.882267</td>\n",
       "    </tr>\n",
       "    <tr>\n",
       "      <th>std_elev</th>\n",
       "      <td>0.503687</td>\n",
       "      <td>1.260353e-03</td>\n",
       "      <td>0.503687</td>\n",
       "    </tr>\n",
       "    <tr>\n",
       "      <th>rainfall</th>\n",
       "      <td>0.341493</td>\n",
       "      <td>6.154141e-02</td>\n",
       "      <td>0.341493</td>\n",
       "    </tr>\n",
       "    <tr>\n",
       "      <th>age_epl</th>\n",
       "      <td>0.249815</td>\n",
       "      <td>1.871871e-01</td>\n",
       "      <td>0.249815</td>\n",
       "    </tr>\n",
       "    <tr>\n",
       "      <th>dip</th>\n",
       "      <td>-0.139568</td>\n",
       "      <td>4.082297e-01</td>\n",
       "      <td>0.139568</td>\n",
       "    </tr>\n",
       "    <tr>\n",
       "      <th>age_qt</th>\n",
       "      <td>-0.047513</td>\n",
       "      <td>8.023445e-01</td>\n",
       "      <td>0.047513</td>\n",
       "    </tr>\n",
       "    <tr>\n",
       "      <th>spi</th>\n",
       "      <td>0.044903</td>\n",
       "      <td>7.117210e-01</td>\n",
       "      <td>0.044903</td>\n",
       "    </tr>\n",
       "    <tr>\n",
       "      <th>incision</th>\n",
       "      <td>0.041119</td>\n",
       "      <td>8.018958e-01</td>\n",
       "      <td>0.041119</td>\n",
       "    </tr>\n",
       "    <tr>\n",
       "      <th>dTOfault</th>\n",
       "      <td>-0.038255</td>\n",
       "      <td>7.657320e-01</td>\n",
       "      <td>0.038255</td>\n",
       "    </tr>\n",
       "    <tr>\n",
       "      <th>cos_aspect</th>\n",
       "      <td>-0.021435</td>\n",
       "      <td>7.194057e-01</td>\n",
       "      <td>0.021435</td>\n",
       "    </tr>\n",
       "    <tr>\n",
       "      <th>pga</th>\n",
       "      <td>-0.011975</td>\n",
       "      <td>8.904831e-01</td>\n",
       "      <td>0.011975</td>\n",
       "    </tr>\n",
       "    <tr>\n",
       "      <th>forest</th>\n",
       "      <td>-0.010152</td>\n",
       "      <td>9.197844e-01</td>\n",
       "      <td>0.010152</td>\n",
       "    </tr>\n",
       "    <tr>\n",
       "      <th>river_dist</th>\n",
       "      <td>-0.004531</td>\n",
       "      <td>8.263538e-01</td>\n",
       "      <td>0.004531</td>\n",
       "    </tr>\n",
       "    <tr>\n",
       "      <th>profc</th>\n",
       "      <td>-0.001758</td>\n",
       "      <td>9.636202e-01</td>\n",
       "      <td>0.001758</td>\n",
       "    </tr>\n",
       "    <tr>\n",
       "      <th>sin_aspect</th>\n",
       "      <td>-0.000483</td>\n",
       "      <td>9.759587e-01</td>\n",
       "      <td>0.000483</td>\n",
       "    </tr>\n",
       "    <tr>\n",
       "      <th>max_elev</th>\n",
       "      <td>-0.000313</td>\n",
       "      <td>9.899719e-01</td>\n",
       "      <td>0.000313</td>\n",
       "    </tr>\n",
       "    <tr>\n",
       "      <th>dTOAfault</th>\n",
       "      <td>0.000000</td>\n",
       "      <td>NaN</td>\n",
       "      <td>0.000000</td>\n",
       "    </tr>\n",
       "    <tr>\n",
       "      <th>tobia</th>\n",
       "      <td>0.000000</td>\n",
       "      <td>NaN</td>\n",
       "      <td>0.000000</td>\n",
       "    </tr>\n",
       "    <tr>\n",
       "      <th>planc</th>\n",
       "      <td>0.000000</td>\n",
       "      <td>NaN</td>\n",
       "      <td>0.000000</td>\n",
       "    </tr>\n",
       "  </tbody>\n",
       "</table>\n",
       "</div>"
      ],
      "text/plain": [
       "            coefficient       p_value  |coefficient|\n",
       "Intercept     -2.830662  9.284942e-59       2.830662\n",
       "slope         -0.882267  6.436829e-05       0.882267\n",
       "std_elev       0.503687  1.260353e-03       0.503687\n",
       "rainfall       0.341493  6.154141e-02       0.341493\n",
       "age_epl        0.249815  1.871871e-01       0.249815\n",
       "dip           -0.139568  4.082297e-01       0.139568\n",
       "age_qt        -0.047513  8.023445e-01       0.047513\n",
       "spi            0.044903  7.117210e-01       0.044903\n",
       "incision       0.041119  8.018958e-01       0.041119\n",
       "dTOfault      -0.038255  7.657320e-01       0.038255\n",
       "cos_aspect    -0.021435  7.194057e-01       0.021435\n",
       "pga           -0.011975  8.904831e-01       0.011975\n",
       "forest        -0.010152  9.197844e-01       0.010152\n",
       "river_dist    -0.004531  8.263538e-01       0.004531\n",
       "profc         -0.001758  9.636202e-01       0.001758\n",
       "sin_aspect    -0.000483  9.759587e-01       0.000483\n",
       "max_elev      -0.000313  9.899719e-01       0.000313\n",
       "dTOAfault      0.000000           NaN       0.000000\n",
       "tobia          0.000000           NaN       0.000000\n",
       "planc          0.000000           NaN       0.000000"
      ]
     },
     "execution_count": 37,
     "metadata": {},
     "output_type": "execute_result"
    }
   ],
   "source": [
    "coeff_summary"
   ]
  },
  {
   "cell_type": "markdown",
   "id": "b2b8f477-0be3-40a7-aaa6-1bece48e35b4",
   "metadata": {},
   "source": [
    "## plots"
   ]
  },
  {
   "cell_type": "code",
   "execution_count": 38,
   "id": "31eeb110-328a-42ec-a289-cfd1319f44f9",
   "metadata": {},
   "outputs": [
    {
     "data": {
      "text/plain": [
       "<matplotlib.legend.Legend at 0x7fb18108df70>"
      ]
     },
     "execution_count": 38,
     "metadata": {},
     "output_type": "execute_result"
    },
    {
     "data": {
      "image/png": "[encoded data removed]",
      "text/plain": [
       "<Figure size 432x432 with 1 Axes>"
      ]
     },
     "metadata": {
      "needs_background": "light"
     },
     "output_type": "display_data"
    }
   ],
   "source": [
    "metric = 'rainfall'\n",
    "\n",
    "state = {0:{'label':'inactive','color':'green'},\n",
    "         1:{'label':'active','color':'red'}}\n",
    "\n",
    "f, ax = plt.subplots(1,1,figsize=(6,6))\n",
    "for s in state:\n",
    "    x_plot = zstats.loc[zstats['activity'] == s, metric]\n",
    "    ax.hist(x_plot, bins=10, density=True, histtype='step', color=state[s]['color'],label=state[s]['label'])\n",
    "\n",
    "ax.set(xlabel=metric,ylabel='density')\n",
    "plt.legend()"
   ]
  },
  {
   "cell_type": "code",
   "execution_count": 39,
   "id": "270a76b4-4062-4a12-94e6-ae9001d5c262",
   "metadata": {},
   "outputs": [
    {
     "data": {
      "image/png": "[encoded data removed]",
      "text/plain": [
       "<Figure size 864x432 with 1 Axes>"
      ]
     },
     "metadata": {
      "needs_background": "light"
     },
     "output_type": "display_data"
    }
   ],
   "source": [
    "df_plot = coeff_summary.drop(index='Intercept')\n",
    "\n",
    "f, ax = plt.subplots(1,1,figsize=(12,6))\n",
    "ax.bar(df_plot.index,df_plot['coefficient'])\n",
    "xtick = plt.xticks(rotation=45,fontsize=10)"
   ]
  },
  {
   "cell_type": "code",
   "execution_count": 40,
   "id": "d9f3855a-cefb-4042-a85b-e722e3db2165",
   "metadata": {},
   "outputs": [],
   "source": [
    "jth_means = jth_df.mean(axis=1)[coeff_summary.drop(index='Intercept').index]\n",
    "allbut_means = allbut_df.mean(axis=1)[coeff_summary.drop(index='Intercept').index]"
   ]
  },
  {
   "cell_type": "code",
   "execution_count": 41,
   "id": "3c0c73aa-fb2d-408f-a457-54a48214ae79",
   "metadata": {},
   "outputs": [
    {
     "data": {
      "image/png": "[encoded data removed]",
      "text/plain": [
       "<Figure size 864x432 with 1 Axes>"
      ]
     },
     "metadata": {
      "needs_background": "light"
     },
     "output_type": "display_data"
    }
   ],
   "source": [
    "f, ax = plt.subplots(1,1,figsize=(12,6))\n",
    "ax.bar(jth_means.index,jth_means)\n",
    "ax.hlines((0.5,acc_summary.loc['auc','results']),xmin=-1,xmax=X.shape[1]-1,color='black')\n",
    "plt.ylim(0.4,0.8)\n",
    "plt.xlim(-1,X.shape[1]-1)\n",
    "xtick = plt.xticks(rotation=45,fontsize=10)"
   ]
  },
  {
   "cell_type": "code",
   "execution_count": 42,
   "id": "89869d08-6b16-43c4-9cbe-c5557f3f0d45",
   "metadata": {},
   "outputs": [
    {
     "data": {
      "image/png": "[encoded data removed]",
      "text/plain": [
       "<Figure size 864x432 with 1 Axes>"
      ]
     },
     "metadata": {
      "needs_background": "light"
     },
     "output_type": "display_data"
    }
   ],
   "source": [
    "f, ax = plt.subplots(1,1,figsize=(12,6))\n",
    "ax.bar(allbut_means.index,allbut_means)\n",
    "ax.hlines(acc_summary.loc['auc','results'],xmin=-1,xmax=X.shape[1]-1,color='black')\n",
    "plt.ylim(0.7,0.85)\n",
    "plt.xlim(-1,X.shape[1]-1)\n",
    "xtick = plt.xticks(rotation=45,fontsize=10)"
   ]
  },
  {
   "cell_type": "code",
   "execution_count": 103,
   "id": "f7f1c94b-42dd-460f-abd1-c4e3ef64d386",
   "metadata": {},
   "outputs": [
    {
     "data": {
      "text/plain": [
       "<matplotlib.legend.Legend at 0x7fb173a3a7f0>"
      ]
     },
     "execution_count": 103,
     "metadata": {},
     "output_type": "execute_result"
    },
    {
     "data": {
      "image/png": "[encoded data removed]",
      "text/plain": [
       "<Figure size 600x600 with 1 Axes>"
      ]
     },
     "metadata": {
      "needs_background": "light"
     },
     "output_type": "display_data"
    }
   ],
   "source": [
    "aspect = pd.DataFrame()\n",
    "aspect['activity'] = zstats['activity']\n",
    "aspect['aspect'] = np.rad2deg(np.arctan2(zstats['sin_aspect'],zstats['cos_aspect']))\n",
    "\n",
    "state = {0:{'label':'inactive','color':'green'},\n",
    "         1:{'label':'active','color':'red'}}\n",
    "bins = 8\n",
    "\n",
    "fig = plt.figure(figsize=(6,6),dpi=100)\n",
    "ax = fig.add_subplot(projection='polar')\n",
    "ax.set_theta_zero_location('N')\n",
    "ax.set_theta_direction(-1)\n",
    "ax.set_xlabel('Landslide Aspect')\n",
    "ax.set_rticks(ticks=[])\n",
    "\n",
    "for s in state:\n",
    "    df = aspect.loc[aspect['activity']==s].copy()\n",
    "    h, b = np.histogram(df.aspect, bins=np.linspace(-180, 180, bins+1), density=True)\n",
    "    b = np.deg2rad((b[1:] + b[:-1]) / 2)\n",
    "    width = (2*np.pi) / bins\n",
    "    ax.bar(b, h, width=width, bottom=0.0, color=state[s]['color'],label=state[s]['label'],alpha=0.5)\n",
    "\n",
    "plt.legend()"
   ]
  }
 ],
 "metadata": {
  "kernelspec": {
   "display_name": "Python 3 (ipykernel)",
   "language": "python",
   "name": "python3"
  },
  "language_info": {
   "codemirror_mode": {
    "name": "ipython",
    "version": 3
   },
   "file_extension": ".py",
   "mimetype": "text/x-python",
   "name": "python",
   "nbconvert_exporter": "python",
   "pygments_lexer": "ipython3",
   "version": "3.9.5"
  },
  "toc-autonumbering": false
 },
 "nbformat": 4,
 "nbformat_minor": 5
}
