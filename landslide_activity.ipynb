{
 "cells": [
  {
   "cell_type": "markdown",
   "id": "aacc18d0-e4ed-4d26-8108-89dccba51688",
   "metadata": {},
   "source": [
    "## Setup"
   ]
  },
  {
   "cell_type": "code",
   "execution_count": 1,
   "id": "0d7b5292-c0e0-476f-8821-a1c189275fe7",
   "metadata": {},
   "outputs": [],
   "source": [
    "# run in forrestwilliams/gis:1.03\n",
    "%matplotlib inline\n",
    "import rasterio as rio\n",
    "import geopandas as gpd\n",
    "from pathlib import Path\n",
    "from skimage import morphology\n",
    "from rasterstats import zonal_stats\n",
    "\n",
    "import numpy as np\n",
    "import pandas as pd\n",
    "import matplotlib.pyplot as plt\n",
    "from itertools import product"
   ]
  },
  {
   "cell_type": "code",
   "execution_count": 2,
   "id": "7fd2a92a-0fff-46e9-83ed-5aaae379545c",
   "metadata": {},
   "outputs": [
    {
     "name": "stdout",
     "output_type": "stream",
     "text": [
      "/home/micromamba/data\n"
     ]
    }
   ],
   "source": [
    "cd /home/micromamba/data"
   ]
  },
  {
   "cell_type": "code",
   "execution_count": 3,
   "id": "8393d2c0-92f4-4a3e-9a2f-d85328378a76",
   "metadata": {},
   "outputs": [],
   "source": [
    "def read_raster(path,bands=1,crs=False):\n",
    "    with rio.open(path) as dst:\n",
    "        array = dst.read(bands)\n",
    "        profile = dst.profile\n",
    "        crs_val = dst.crs\n",
    "        # array = np.moveaxis(array,0,-1)\n",
    "    \n",
    "    result = [array, profile]\n",
    "\n",
    "    if crs:\n",
    "        result.append(crs_val)\n",
    "\n",
    "    return result\n",
    "\n",
    "\n",
    "def write_raster(array,profile,out_path,dtype=rio.uint8):\n",
    "    # From rasterio docs:\n",
    "    # Register GDAL format drivers and configuration options with a\n",
    "    # context manager.\n",
    "    with rio.Env():\n",
    "        # And then change the band count to 1, set the\n",
    "        # dtype to uint8, and specify LZW compression.\n",
    "        profile.update(\n",
    "            dtype=dtype,\n",
    "            count=1,\n",
    "            compress='lzw')\n",
    "\n",
    "        with rio.open(out_path, 'w', **profile) as dst:\n",
    "            dst.write(array.astype(dtype), 1)\n",
    "\n",
    "    return out_path\n",
    "\n",
    "def vel_coh_filter(vel_array, coh_array, coh_thresh, n_std=2, min_size=None):\n",
    "    data = vel_array.copy()\n",
    "    \n",
    "    # mask pixels with temporal coherence below threshold\n",
    "    coh_mask = coh_array > coh_thresh\n",
    "    data[~coh_mask] = np.nan\n",
    "\n",
    "    # mask pixels with velocities less than 2 x velocity std in space\n",
    "    mean = np.nanmean(data)\n",
    "    std = np.nanstd(data)\n",
    "    vel_mask = np.abs(data - mean) > (std * n_std)\n",
    "    \n",
    "    # combine masks\n",
    "    mask = vel_mask & coh_mask\n",
    "\n",
    "    # optionally remove small objects (min size in pixels)\n",
    "    if min_size:\n",
    "        mask = morphology.remove_small_objects(mask,min_size=min_size)\n",
    "    \n",
    "    data[~mask] = np.nan\n",
    "    \n",
    "    return (data, mask)\n",
    "\n",
    "\n",
    "def gdf_zonal_stats(gdf,data,affine,statistic,nodata=0,dtype=float):\n",
    "    # Get polygons\n",
    "    zones = list(gdf.geometry)\n",
    "\n",
    "    # Perform zonal stats and convert to pandas series\n",
    "    zs = zonal_stats(zones, data.astype(dtype), affine=affine,stats=[statistic],nodata=nodata)\n",
    "    result = pd.Series([x[statistic] for x in zs])\n",
    "    \n",
    "    return result"
   ]
  },
  {
   "cell_type": "markdown",
   "id": "1dfded3e-3eab-48bc-90aa-12e6bc4261d8",
   "metadata": {},
   "source": [
    "### Load Data"
   ]
  },
  {
   "cell_type": "code",
   "execution_count": 4,
   "id": "96e9b796-09bb-418d-aff4-fcea5671cda5",
   "metadata": {},
   "outputs": [],
   "source": [
    "dataset_names = ['velocity_desc','velocity_asc',\n",
    "                 'temporalCoherence_desc','temporalCoherence_asc']\n",
    "\n",
    "years = [2018,2019,2020,2021]"
   ]
  },
  {
   "cell_type": "code",
   "execution_count": 5,
   "id": "42a38ec8-707b-4ab1-b616-e96dd127abc1",
   "metadata": {},
   "outputs": [
    {
     "name": "stdout",
     "output_type": "stream",
     "text": [
      "Reading insar/velocity_desc2018.tif ...\n",
      "Reading insar/velocity_desc2019.tif ...\n",
      "Reading insar/velocity_desc2020.tif ...\n",
      "Reading insar/velocity_desc2021.tif ...\n",
      "Reading insar/velocity_asc2018.tif ...\n",
      "Reading insar/velocity_asc2019.tif ...\n",
      "Reading insar/velocity_asc2020.tif ...\n",
      "Reading insar/velocity_asc2021.tif ...\n",
      "Reading insar/temporalCoherence_desc2018.tif ...\n",
      "Reading insar/temporalCoherence_desc2019.tif ...\n",
      "Reading insar/temporalCoherence_desc2020.tif ...\n",
      "Reading insar/temporalCoherence_desc2021.tif ...\n",
      "Reading insar/temporalCoherence_asc2018.tif ...\n",
      "Reading insar/temporalCoherence_asc2019.tif ...\n",
      "Reading insar/temporalCoherence_asc2020.tif ...\n",
      "Reading insar/temporalCoherence_asc2021.tif ...\n",
      "Done!\n"
     ]
    }
   ],
   "source": [
    "datasets = {}\n",
    "parent_dir = Path('insar')\n",
    "\n",
    "for d in dataset_names:\n",
    "    years_dic = {}\n",
    "    \n",
    "    for y in years:\n",
    "        name = parent_dir / f'{d}{y}.tif'\n",
    "        print(f'Reading {name} ...')\n",
    "        years_dic[y] = read_raster(name)[0]\n",
    "\n",
    "    datasets[d] = years_dic\n",
    "\n",
    "print('Done!')"
   ]
  },
  {
   "cell_type": "code",
   "execution_count": 6,
   "id": "c109a3d2-92e0-4f3a-9cf9-268c22556c52",
   "metadata": {},
   "outputs": [],
   "source": [
    "profile = read_raster('insar/velocity_desc2019.tif')[1]\n",
    "affine = profile['transform']"
   ]
  },
  {
   "cell_type": "markdown",
   "id": "7b795b37-c805-400d-962f-46ab76e0ee9b",
   "metadata": {},
   "source": [
    "## Create activity dataset"
   ]
  },
  {
   "cell_type": "markdown",
   "id": "538e39a8-05be-4d94-b78e-c384c216f0c2",
   "metadata": {},
   "source": [
    "### Relevant parameters"
   ]
  },
  {
   "cell_type": "code",
   "execution_count": 7,
   "id": "6a31d136-08bb-411e-b345-09dfe4c4c107",
   "metadata": {
    "tags": []
   },
   "outputs": [],
   "source": [
    "# relevant parameters\n",
    "min_size = 19\n",
    "coh_thresh = 0.905\n",
    "n_std = 2"
   ]
  },
  {
   "cell_type": "code",
   "execution_count": 8,
   "id": "87a0ac3d-6b35-4639-9b15-9bf8b78c75f7",
   "metadata": {},
   "outputs": [
    {
     "name": "stdout",
     "output_type": "stream",
     "text": [
      "2018\n",
      "2019\n",
      "2020\n",
      "2021\n"
     ]
    }
   ],
   "source": [
    "# create blank outputs\n",
    "activity_bitwise = np.zeros(datasets['velocity_desc'][2019].shape)\n",
    "activity_count = np.zeros(datasets['velocity_desc'][2019].shape)\n",
    "\n",
    "# calculate\n",
    "for i,y in enumerate(years):\n",
    "    print(y)\n",
    "    #descending\n",
    "    desc, mask_desc = vel_coh_filter(datasets['velocity_desc'][y],\n",
    "                                     datasets['temporalCoherence_desc'][y],\n",
    "                                     coh_thresh=coh_thresh, n_std=n_std, min_size=min_size)\n",
    "\n",
    "    #ascending\n",
    "    asc, mask_asc = vel_coh_filter(datasets['velocity_asc'][y],\n",
    "                                     datasets['temporalCoherence_asc'][y],\n",
    "                                     coh_thresh=coh_thresh, n_std=n_std, min_size=min_size)\n",
    "\n",
    "    #both\n",
    "    mask = mask_asc | mask_desc\n",
    "    \n",
    "    # combine all results into a bitwise mask and activity count\n",
    "    activity_bitwise += mask.astype(int) * (2**i)\n",
    "    activity_count += mask.astype(int)"
   ]
  },
  {
   "cell_type": "code",
   "execution_count": 9,
   "id": "8638bb63-fb9e-4fef-9469-4a6fef664174",
   "metadata": {},
   "outputs": [],
   "source": [
    "# save\n",
    "bitwise_name = write_raster(activity_bitwise,profile,parent_dir/'activity_bitwise_2018_2021.tif',dtype=rio.int8)\n",
    "count_name = write_raster(activity_count,profile,parent_dir/'activity_count_2018_2021.tif',dtype=rio.int8)"
   ]
  },
  {
   "cell_type": "code",
   "execution_count": 10,
   "id": "4b7c8d0f-2468-4ef6-b3ab-b259ff4b03d6",
   "metadata": {},
   "outputs": [],
   "source": [
    "del datasets"
   ]
  },
  {
   "cell_type": "markdown",
   "id": "cf1d32d9-da39-478f-9582-45c5b82ec062",
   "metadata": {},
   "source": [
    "### Intersect with landslide data"
   ]
  },
  {
   "cell_type": "code",
   "execution_count": 11,
   "id": "28f3d40c-20ef-4d50-8567-a3e929b9f596",
   "metadata": {},
   "outputs": [],
   "source": [
    "landslides = gpd.read_file('landslides/large_landslidesV2.shp').to_crs(32760)"
   ]
  },
  {
   "cell_type": "code",
   "execution_count": 12,
   "id": "6c8e7b45-227b-4238-9645-50bb1f07737e",
   "metadata": {},
   "outputs": [],
   "source": [
    "drops = [x for x in landslides.columns if 'active' in x]\n",
    "landslides = landslides.drop(columns=drops)"
   ]
  },
  {
   "cell_type": "code",
   "execution_count": 13,
   "id": "26486e52-b9ef-441d-979a-681a7ee5d77c",
   "metadata": {},
   "outputs": [],
   "source": [
    "landslides['y_active'] = gdf_zonal_stats(landslides,activity_count,affine,'max',nodata=-1,dtype=int)"
   ]
  },
  {
   "cell_type": "code",
   "execution_count": 14,
   "id": "50f0a8c1-632a-400f-81ad-baa81fca12f8",
   "metadata": {},
   "outputs": [],
   "source": [
    "landslides['active_2y'] = (landslides['y_active'] >= 2).astype(int)"
   ]
  },
  {
   "cell_type": "code",
   "execution_count": 65,
   "id": "e405a23e-559a-4108-8180-ed8dabe69e63",
   "metadata": {},
   "outputs": [],
   "source": [
    "# landslides.to_file('landslides/large_landslidesV5.shp')"
   ]
  },
  {
   "cell_type": "code",
   "execution_count": 15,
   "id": "f6df6966-c7d4-4d2b-8747-5a8a71a44f11",
   "metadata": {},
   "outputs": [
    {
     "data": {
      "text/plain": [
       "0.11258278145695365"
      ]
     },
     "execution_count": 15,
     "metadata": {},
     "output_type": "execute_result"
    }
   ],
   "source": [
    "landslides.active_2y.mean()"
   ]
  },
  {
   "cell_type": "markdown",
   "id": "27a9a945-a3b5-480d-916d-e848e9a464dc",
   "metadata": {},
   "source": [
    "### Fix mistake"
   ]
  },
  {
   "cell_type": "code",
   "execution_count": 44,
   "id": "75ab38ee-2b69-4946-a518-8fd5f5c57b47",
   "metadata": {},
   "outputs": [],
   "source": [
    "old = gpd.read_file('landslides/large_landslidesV6.shp').to_crs(32760)"
   ]
  },
  {
   "cell_type": "code",
   "execution_count": 45,
   "id": "6796525d-02c7-4614-ad06-beeb20dc0164",
   "metadata": {},
   "outputs": [
    {
     "data": {
      "text/plain": [
       "Index(['Name', 'Shape_Leng', 'Shape_Area', 'age', 'confidence', 'class',\n",
       "       'notes', 'area_ha', 'geometry', 'y_active', 'active_2y'],\n",
       "      dtype='object')"
      ]
     },
     "execution_count": 45,
     "metadata": {},
     "output_type": "execute_result"
    }
   ],
   "source": [
    "landslides.columns"
   ]
  },
  {
   "cell_type": "code",
   "execution_count": 46,
   "id": "48638ed5-434d-4c81-935b-6cad51fc144a",
   "metadata": {},
   "outputs": [
    {
     "data": {
      "text/plain": [
       "Index(['Name', 'Shape_Leng', 'Shape_Area', 'age', 'confidence', 'class',\n",
       "       'notes', 'area_ha', 'y_active', 'active_2y', 'evidence', 'redraw',\n",
       "       'connected', 'geometry'],\n",
       "      dtype='object')"
      ]
     },
     "execution_count": 46,
     "metadata": {},
     "output_type": "execute_result"
    }
   ],
   "source": [
    "old.columns"
   ]
  },
  {
   "cell_type": "code",
   "execution_count": 63,
   "id": "4afe3f0a-52cd-44f8-b4ef-9d1d27fd8a62",
   "metadata": {},
   "outputs": [],
   "source": [
    "landslides[['evidence','redraw','connected']] = -1"
   ]
  },
  {
   "cell_type": "code",
   "execution_count": 64,
   "id": "e2330366-f2a3-4247-a9c3-2f66a25eec39",
   "metadata": {},
   "outputs": [],
   "source": [
    "for i,row in old.iterrows():\n",
    "    # print(row[['evidence','redraw','connected']])\n",
    "    landslides.loc[landslides['Name']==row['Name'],'evidence'] = int(row['evidence'])\n",
    "    landslides.loc[landslides['Name']==row['Name'],'redraw'] = int(row['redraw'])\n",
    "    landslides.loc[landslides['Name']==row['Name'],'connected'] = int(row['connected'])\n",
    "    # print(row['c'])"
   ]
  },
  {
   "cell_type": "code",
   "execution_count": 65,
   "id": "cffa5406-e81a-4cda-90cd-79bfe0d76877",
   "metadata": {},
   "outputs": [],
   "source": [
    "landslides.to_file('landslides/large_landslides_activeV1.shp')"
   ]
  },
  {
   "cell_type": "code",
   "execution_count": 66,
   "id": "b0495bda-c7c4-406e-aae8-556a224ec889",
   "metadata": {},
   "outputs": [
    {
     "data": {
      "text/plain": [
       "0.065279091769158"
      ]
     },
     "execution_count": 66,
     "metadata": {},
     "output_type": "execute_result"
    }
   ],
   "source": [
    "69/1057"
   ]
  },
  {
   "cell_type": "code",
   "execution_count": null,
   "id": "1f70580f-e967-45af-9607-15c595135ecb",
   "metadata": {},
   "outputs": [],
   "source": []
  }
 ],
 "metadata": {
  "kernelspec": {
   "display_name": "Python 3 (ipykernel)",
   "language": "python",
   "name": "python3"
  },
  "language_info": {
   "codemirror_mode": {
    "name": "ipython",
    "version": 3
   },
   "file_extension": ".py",
   "mimetype": "text/x-python",
   "name": "python",
   "nbconvert_exporter": "python",
   "pygments_lexer": "ipython3",
   "version": "3.9.5"
  }
 },
 "nbformat": 4,
 "nbformat_minor": 5
}
