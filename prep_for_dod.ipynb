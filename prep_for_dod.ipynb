{
 "cells": [
  {
   "cell_type": "code",
   "execution_count": 1,
   "id": "e09edf1b-e085-400c-9548-e66207d255af",
   "metadata": {},
   "outputs": [],
   "source": [
    "%matplotlib inline\n",
    "\n",
    "import matplotlib.pyplot as plt\n",
    "import geopandas as gpd\n",
    "import rasterio as rio\n",
    "from rasterio import features\n",
    "import numpy as np"
   ]
  },
  {
   "cell_type": "code",
   "execution_count": 2,
   "id": "25ed9c2b-0a88-4c28-ad9d-8afae697dc3e",
   "metadata": {},
   "outputs": [],
   "source": [
    "def read_raster(path,bands=1,crs=False):\n",
    "    # From rasterio docs with modifications\n",
    "    with rio.open(path) as dst:\n",
    "        array = dst.read(bands)\n",
    "        profile = dst.profile\n",
    "        crs_val = dst.crs\n",
    "        # array = np.moveaxis(array,0,-1)\n",
    "    \n",
    "    result = [array, profile]\n",
    "\n",
    "    if crs:\n",
    "        result.append(crs_val)\n",
    "\n",
    "    return result\n",
    "\n",
    "\n",
    "def write_raster(array,profile,out_path,nodata,dtype):\n",
    "    # From rasterio docs:\n",
    "    # Register GDAL format drivers and configuration options with a\n",
    "    # context manager.\n",
    "    with rio.Env():\n",
    "        # And then change the band count to 1, set the\n",
    "        # dtype to uint8, and specify LZW compression.\n",
    "        profile.update(\n",
    "            dtype=dtype,\n",
    "            count=1,\n",
    "            nodata=nodata,\n",
    "            compress='lzw')\n",
    "\n",
    "        with rio.open(out_path, 'w', **profile) as dst:\n",
    "            dst.write(array.astype(dtype), 1)\n",
    "\n",
    "    return out_path\n",
    "\n",
    "def polygon_to_raster(gdf,template_path,value=1,crs=False):\n",
    "    if isinstance(gdf,str):\n",
    "        pol = gpd.read_file(gdf)\n",
    "    else:\n",
    "        pol = gdf\n",
    "\n",
    "    with rio.open(template_path) as dst:\n",
    "        profile = dst.profile\n",
    "        template_crs = dst.crs\n",
    "        template_transform = profile['transform']\n",
    "        template_shape = dst.shape\n",
    "\n",
    "    # if crs != pol.crs:\n",
    "    #   raise Exception('CRSs do not match!')\n",
    "\n",
    "    geojsons = [x['geometry'] for x in pol.geometry.__geo_interface__['features']]\n",
    "    if isinstance(value,str):\n",
    "        shapes = [tuple(x) for x in zip(geojsons,pol[value])]\n",
    "    else:\n",
    "        shapes = [(x,value) for x in geojsons]\n",
    "\n",
    "    array = features.rasterize(shapes, out_shape=template_shape, transform=template_transform)\n",
    "    \n",
    "    result = [array, profile]\n",
    "    if crs:\n",
    "        result.append(template_crs)\n",
    "\n",
    "    return result"
   ]
  },
  {
   "cell_type": "code",
   "execution_count": 3,
   "id": "0921c373-cde6-4efd-9d05-7f1b46a5cbc7",
   "metadata": {},
   "outputs": [
    {
     "name": "stdout",
     "output_type": "stream",
     "text": [
      "/home/micromamba/data\n"
     ]
    }
   ],
   "source": [
    "cd /home/micromamba/data"
   ]
  },
  {
   "cell_type": "code",
   "execution_count": 4,
   "id": "edddcec7-9fc0-4570-864b-1337d9750fed",
   "metadata": {},
   "outputs": [],
   "source": [
    "horizons = 'DoD/horizons_dsm_01022016.tif'\n",
    "sfm =  'DoD/sfm_dsm_01092021_1m.tif'\n",
    "error_gdf = gpd.read_file('DoD/polygons/error_zones.shp')\n",
    "stable_gdf = gpd.read_file('DoD/polygons/stable_zones.shp')\n",
    "landslide_gdf = gpd.read_file('DoD/polygons/landslide_zones.shp')"
   ]
  },
  {
   "cell_type": "code",
   "execution_count": 5,
   "id": "9cf9fcbe-f22d-4606-a925-1c6c12f14746",
   "metadata": {},
   "outputs": [],
   "source": [
    "dem_paths = {'horizons':horizons,'sfm':sfm}\n",
    "dems = {}\n",
    "\n",
    "for r in dem_paths:\n",
    "    ras_path = dem_paths[r]\n",
    "    ras, profile = read_raster(ras_path)\n",
    "    \n",
    "    errors, _ = polygon_to_raster(error_gdf,ras_path,value=1,crs=False)\n",
    "    stable, _ = polygon_to_raster(stable_gdf,ras_path,value=1,crs=False)\n",
    "    \n",
    "    ras[ras <= 0] = np.nan\n",
    "    ras[errors == 1] = np.nan\n",
    "    mean_val = np.nansum(ras[stable == 1]) / np.nansum(stable)\n",
    "    \n",
    "    dems[r] = {'array':ras,'profile':profile,'mean_val':mean_val}"
   ]
  },
  {
   "cell_type": "code",
   "execution_count": 6,
   "id": "85b4794a-e2be-471d-8694-26e7f7287505",
   "metadata": {},
   "outputs": [
    {
     "data": {
      "text/plain": [
       "1.0096655611242795"
      ]
     },
     "execution_count": 6,
     "metadata": {},
     "output_type": "execute_result"
    }
   ],
   "source": [
    "offset = dems['sfm']['mean_val'] - dems['horizons']['mean_val']\n",
    "offset"
   ]
  },
  {
   "cell_type": "code",
   "execution_count": 7,
   "id": "fb33915c-90b6-4f87-8c5b-7f163042172a",
   "metadata": {},
   "outputs": [],
   "source": [
    "dems['sfm']['array'] = dems['sfm']['array'] - offset"
   ]
  },
  {
   "cell_type": "code",
   "execution_count": 8,
   "id": "6e74b2dd-e1d0-407c-9ac7-e587ec2f811c",
   "metadata": {},
   "outputs": [],
   "source": [
    "for d,p in zip(dems,['DoD/horizons_dsm_01022016_filter.tif', 'DoD/sfm_dsm_01092021_filter.tif']):\n",
    "\n",
    "    dems[d]['array'][np.isnan(dems[d]['array'])] = 0\n",
    "\n",
    "    write_raster(dems[d]['array'],dems[d]['profile'],p,nodata=0,dtype=rio.float32)"
   ]
  },
  {
   "cell_type": "code",
   "execution_count": 9,
   "id": "7f397493-7479-4b2c-8d05-e99aa920a63c",
   "metadata": {},
   "outputs": [
    {
     "data": {
      "text/plain": [
       "'DoD/landslide_zones.tif'"
      ]
     },
     "execution_count": 9,
     "metadata": {},
     "output_type": "execute_result"
    }
   ],
   "source": [
    "arr, profile = polygon_to_raster(landslide_gdf,horizons,value='id',crs=False)\n",
    "arr = arr.astype(float)\n",
    "# arr[arr == 0] = np.nan\n",
    "write_raster(arr,profile,'DoD/landslide_zones.tif',nodata=0,dtype=rio.float32)"
   ]
  },
  {
   "cell_type": "code",
   "execution_count": null,
   "id": "bd1f66d8-ea0a-4932-b78a-7c9892cede8c",
   "metadata": {},
   "outputs": [],
   "source": []
  }
 ],
 "metadata": {
  "kernelspec": {
   "display_name": "Python 3 (ipykernel)",
   "language": "python",
   "name": "python3"
  },
  "language_info": {
   "codemirror_mode": {
    "name": "ipython",
    "version": 3
   },
   "file_extension": ".py",
   "mimetype": "text/x-python",
   "name": "python",
   "nbconvert_exporter": "python",
   "pygments_lexer": "ipython3",
   "version": "3.9.5"
  }
 },
 "nbformat": 4,
 "nbformat_minor": 5
}
